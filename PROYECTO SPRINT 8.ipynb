{
 "cells": [
  {
   "cell_type": "markdown",
   "metadata": {},
   "source": [
    "# Revisión (quinta iteración)\n",
    "\n",
    "Hola!\n",
    "\n",
    "Me da gusto continuar con la revisión de tu trabajo. Mi nombre es David Esparza Jasso. Puedes encontrar los comentarios de esta quinta iteración con un \"**v5**\" en su título."
   ]
  },
  {
   "cell_type": "markdown",
   "metadata": {},
   "source": [
    "<div class=\"alert alert-block alert-success\">\n",
    "<b>COMENTARIO GENERAL QUINTA REVISIÓN</b> <a class=\"tocSkip\"></a>\n",
    "\n",
    "Tu proyecto queda aprobado. Por favor, para próximos proyectos aplica las correcciones de los revisores cuidadosamente para que puedas aprobar más rápido tus proyectos. Saludos.  \n",
    "    \n",
    "</div>"
   ]
  },
  {
   "cell_type": "markdown",
   "metadata": {},
   "source": [
    "# Revisión (cuarta iteración)\n",
    "\n",
    "Hola!\n",
    "\n",
    "Me da gusto continuar con la revisión de tu trabajo. Mi nombre es David Esparza Jasso. Puedes encontrar los comentarios de esta cuarta iteración con un \"**v4**\" en su título."
   ]
  },
  {
   "cell_type": "markdown",
   "metadata": {},
   "source": [
    "<div class=\"alert alert-block alert-warning\">\n",
    "<b>COMENTARIO GENERAL CUARTA REVISIÓN</b> <a class=\"tocSkip\"></a>\n",
    "\n",
    "Bien, tu proyecto va progresando. Sin embargo, **aún hay errores importantes**, por favor aplica **atentamente** mis nuevas correcciones: **9 nuevos comentarios rojos y 2 nuevos comentarios amarillos**.\n",
    "\n",
    "Saludos.    \n",
    "    \n",
    "</div>"
   ]
  },
  {
   "cell_type": "markdown",
   "metadata": {},
   "source": [
    "# Revisión (tercera iteración)\n",
    "\n",
    "Hola!\n",
    "\n",
    "Me da gusto continuar con la revisión de tu trabajo. Mi nombre es David Esparza Jasso. Puedes encontrar los comentarios de esta tercera iteración con un \"**v3**\" en su título."
   ]
  },
  {
   "cell_type": "markdown",
   "metadata": {},
   "source": [
    "<div class=\"alert alert-block alert-danger\">\n",
    "<b>COMENTARIO GENERAL TERCERA REVISIÓN</b> <a class=\"tocSkip\"></a>\n",
    "\n",
    "No aplicaste mis correcciones al pie de la letra y por ello obtuviste errores. Por favor, aplica todas mis correcciones de la iteración anterior al pie de la letra para poder continuar con la revisión, y así poder avanzar más rápido en este proyecto tanto tú como yo. Tómate tu tiempo.\n",
    "    \n",
    "Además, el proyecto no corre por completo. Debes de entregar un proyecto que pueda correr completamente. Antes de entregar tu proyecto, para revisar que corra por completo, ve al menú de `Kernel -> Restart and run all`. De esa manera, reinicias todas las variables, y vuelves a correr todas las celdas del proyecto. Así puedes revisar que no haya errores de código antes de entregar tu proyecto.\n",
    "    \n",
    "Saludos cordiales.\n",
    "\n",
    "</div>"
   ]
  },
  {
   "cell_type": "markdown",
   "metadata": {},
   "source": [
    "# Revisión (segunda iteración)\n",
    "\n",
    "Hola!\n",
    "\n",
    "Me da gusto continuar con la revisión de tu trabajo. Mi nombre es David Esparza Jasso. Puedes encontrar los comentarios de esta segunda iteración con un \"**v2**\" en su título."
   ]
  },
  {
   "cell_type": "markdown",
   "metadata": {},
   "source": [
    "<div class=\"alert alert-block alert-warning\">\n",
    "<b>COMENTARIO GENERAL SEGUNDA REVISIÓN</b> <a class=\"tocSkip\"></a>\n",
    "\n",
    "festudillo, aplicaste correctamente algunas de las correcciones, pero **muchas no fueron aplicadas como te las señalé**, por favor aplica mis correcciones con más cuidado, al pie de la letra, para que sea más sencillo aprobar tu proyecto de manera rápida, recuerda que puedes acudir con tu tutor o instructor para que te apoye con gusto si es que tienes dudas con los temas. Traté de explicarme de manera amplia. Te dejo **12 nuevos comentarios rojos y 1 nuevo comentario amarillo**. Saludos cordiales!\n",
    "\n",
    "</div>"
   ]
  },
  {
   "cell_type": "markdown",
   "metadata": {},
   "source": [
    "# Revisión (primera iteración)\n",
    "\n",
    "Hola, festudillo@gmail.com!\n",
    "\n",
    "Mi nombre es David Esparza Jasso y estoy feliz por revisar tu proyecto el día de hoy.\n",
    "\n",
    "\n",
    "\n",
    "Encontrarás mis comentarios abajo. - **por favor, no los muevas, modifiques o elimines**.\n",
    "\n",
    "\n",
    "Puedes encontrar mis comentarios en cajas verdes, amarillas y rojas como éstas:\n",
    "\n",
    "<div class=\"alert alert-block alert-success\">\n",
    "<b>Éxito</b> <a class=\"tocSkip\"></a>\n",
    "\n",
    "Correcto. Todo se hizo correctamente!\n",
    "</div>\n",
    "\n",
    "<div class=\"alert alert-block alert-warning\">\n",
    "<b>Atención</b> <a class=\"tocSkip\"></a>\n",
    "\n",
    "Observaciones. Algunas recomendaciones.\n",
    "</div>\n",
    "\n",
    "<div class=\"alert alert-block alert-danger\">\n",
    "\n",
    "<b>A resolver</b> <a class=\"tocSkip\"></a>\n",
    "\n",
    "Necesita correcciones. La parte correspondiente requiere algunas correcciones. El trabajo no puede ser aprobado con comentarios rojos sin corregir.\n",
    "</div>\n",
    "\n",
    "Puedes contestarme usando este tipo de cajas:\n",
    "\n",
    "<div class=\"alert alert-block alert-info\">\n",
    "<b>Respuesta del estudiante.</b> <a class=\"tocSkip\"></a>\n",
    "\n",
    "    \n",
    "En celdas como éstas puedes dejarme tus comentarios\n",
    "</div>\n",
    "\n",
    "Recuerda que, si deseas dejarme un comentario en alguna parte del documento, sólo tienes que dar doble clic sobre la celda de arriba, copiar el código, pegarlo en una nueva celda y sustituir la frase \"En celdas como éstas puedes dejarme tus comentarios\" por tu propio comentario. Asegúrate sólamente que la celda donde vayas a incluir tu comentario esté en formato \"Markdown\"."
   ]
  },
  {
   "cell_type": "markdown",
   "metadata": {},
   "source": [
    "<div class=\"alert alert-block alert-warning\">\n",
    "<b>COMENTARIO GENERAL PRIMERA REVISIÓN</b> <a class=\"tocSkip\"></a>\n",
    "\n",
    "Tienes varios aciertos, pero en general tu proyecto **está muy incompleto, no alcanzas el valor de F1 mínimo solicitado y deberías haber profundizado mucho más en las diversas tareas solicitadas**. Los detalles de las correcciones los puedes encontrar en los diversos comentarios que te dejo. Por favor si necesitas apoyo acude con tu tutor/instructor, estará feliz de apoyarte.\n",
    "    \n",
    "Saludos    \n",
    "\n",
    "</div>"
   ]
  },
  {
   "cell_type": "markdown",
   "metadata": {},
   "source": [
    "<div class=\"alert alert-block alert-danger\">\n",
    "<b>A resolver</b> <a class=\"tocSkip\"></a>\n",
    "\n",
    "~~Una introducción apropiada para tu proyecto es necesaria **siempre**~~</div>"
   ]
  },
  {
   "cell_type": "markdown",
   "metadata": {},
   "source": [
    "#### Introducción"
   ]
  },
  {
   "cell_type": "markdown",
   "metadata": {},
   "source": [
    "Los banqueros de BETA BANK descubrieron que es más barato salvar a los clientes existentes que atraer nuevos. Por lo tanto, BETA BANK requiere una solución para identificar a los clientes cuyo perfil indique que pueda abandonar el banco en el corto plazo. \n",
    "\n",
    "- Se requiere llevar a cabo un modelo con los datos sobre comportamiento de los clientes y la terminación de contrato.\n",
    "\n",
    "- El modelo debe tener el máximo valor F1 posible. Se necesita un valor F1 de al menos 0.59 en el conjunto de datos de prueba. \n",
    "\n",
    "- Se requiere medir la métrica AUC-ROC y compararla con el valor F1."
   ]
  },
  {
   "cell_type": "code",
   "execution_count": 1,
   "metadata": {},
   "outputs": [],
   "source": [
    "import pandas as pd\n",
    "import numpy as np\n",
    "import math\n",
    "import matplotlib.pyplot as plt\n",
    "from scipy import stats as st\n",
    "from joblib import dump\n",
    "from sklearn.tree import DecisionTreeClassifier\n",
    "from sklearn.ensemble import RandomForestClassifier\n",
    "from sklearn.linear_model import LogisticRegression\n",
    "from sklearn.model_selection import train_test_split\n",
    "from sklearn.metrics import mean_squared_error\n",
    "from sklearn.metrics import confusion_matrix\n",
    "from sklearn.metrics import accuracy_score\n",
    "from sklearn.metrics import recall_score\n",
    "from sklearn.metrics import precision_score\n",
    "from sklearn.metrics import f1_score\n",
    "from sklearn.metrics import classification_report\n",
    "from sklearn.metrics import mean_absolute_error\n",
    "from sklearn.metrics import r2_score\n",
    "from sklearn.metrics import roc_curve\n",
    "from sklearn.preprocessing import OrdinalEncoder\n",
    "from sklearn.utils import shuffle\n",
    "from sklearn.metrics import roc_auc_score"
   ]
  },
  {
   "cell_type": "markdown",
   "metadata": {},
   "source": [
    "#### Preparación de datos"
   ]
  },
  {
   "cell_type": "code",
   "execution_count": 2,
   "metadata": {},
   "outputs": [],
   "source": [
    "data = pd.read_csv('/datasets/Churn.csv')"
   ]
  },
  {
   "cell_type": "code",
   "execution_count": 3,
   "metadata": {
    "scrolled": true
   },
   "outputs": [
    {
     "name": "stdout",
     "output_type": "stream",
     "text": [
      "<class 'pandas.core.frame.DataFrame'>\n",
      "RangeIndex: 10000 entries, 0 to 9999\n",
      "Data columns (total 14 columns):\n",
      " #   Column           Non-Null Count  Dtype  \n",
      "---  ------           --------------  -----  \n",
      " 0   RowNumber        10000 non-null  int64  \n",
      " 1   CustomerId       10000 non-null  int64  \n",
      " 2   Surname          10000 non-null  object \n",
      " 3   CreditScore      10000 non-null  int64  \n",
      " 4   Geography        10000 non-null  object \n",
      " 5   Gender           10000 non-null  object \n",
      " 6   Age              10000 non-null  int64  \n",
      " 7   Tenure           9091 non-null   float64\n",
      " 8   Balance          10000 non-null  float64\n",
      " 9   NumOfProducts    10000 non-null  int64  \n",
      " 10  HasCrCard        10000 non-null  int64  \n",
      " 11  IsActiveMember   10000 non-null  int64  \n",
      " 12  EstimatedSalary  10000 non-null  float64\n",
      " 13  Exited           10000 non-null  int64  \n",
      "dtypes: float64(3), int64(8), object(3)\n",
      "memory usage: 1.1+ MB\n"
     ]
    }
   ],
   "source": [
    "data.info()"
   ]
  },
  {
   "cell_type": "markdown",
   "metadata": {},
   "source": [
    "- Se puede observar que existen datos faltantes en la columna de Tenure.\n",
    "- Las columnas de Tenure, Balance y EStimatedSalary con números flotantes.\n",
    "- Las columnas Surname, Geography y Gender contienen objetos.\n",
    "- Todas las demás columnas son números enteros."
   ]
  },
  {
   "cell_type": "markdown",
   "metadata": {},
   "source": [
    "Voy a cambiar las letras de las columnas a lower case para mantener esta convención en su uso posterior."
   ]
  },
  {
   "cell_type": "code",
   "execution_count": 4,
   "metadata": {},
   "outputs": [],
   "source": [
    "data.columns = data.columns.str.lower()"
   ]
  },
  {
   "cell_type": "code",
   "execution_count": 5,
   "metadata": {},
   "outputs": [
    {
     "data": {
      "text/html": [
       "<div>\n",
       "<style scoped>\n",
       "    .dataframe tbody tr th:only-of-type {\n",
       "        vertical-align: middle;\n",
       "    }\n",
       "\n",
       "    .dataframe tbody tr th {\n",
       "        vertical-align: top;\n",
       "    }\n",
       "\n",
       "    .dataframe thead th {\n",
       "        text-align: right;\n",
       "    }\n",
       "</style>\n",
       "<table border=\"1\" class=\"dataframe\">\n",
       "  <thead>\n",
       "    <tr style=\"text-align: right;\">\n",
       "      <th></th>\n",
       "      <th>rownumber</th>\n",
       "      <th>customerid</th>\n",
       "      <th>surname</th>\n",
       "      <th>creditscore</th>\n",
       "      <th>geography</th>\n",
       "      <th>gender</th>\n",
       "      <th>age</th>\n",
       "      <th>tenure</th>\n",
       "      <th>balance</th>\n",
       "      <th>numofproducts</th>\n",
       "      <th>hascrcard</th>\n",
       "      <th>isactivemember</th>\n",
       "      <th>estimatedsalary</th>\n",
       "      <th>exited</th>\n",
       "    </tr>\n",
       "  </thead>\n",
       "  <tbody>\n",
       "    <tr>\n",
       "      <th>0</th>\n",
       "      <td>1</td>\n",
       "      <td>15634602</td>\n",
       "      <td>Hargrave</td>\n",
       "      <td>619</td>\n",
       "      <td>France</td>\n",
       "      <td>Female</td>\n",
       "      <td>42</td>\n",
       "      <td>2.0</td>\n",
       "      <td>0.00</td>\n",
       "      <td>1</td>\n",
       "      <td>1</td>\n",
       "      <td>1</td>\n",
       "      <td>101348.88</td>\n",
       "      <td>1</td>\n",
       "    </tr>\n",
       "    <tr>\n",
       "      <th>1</th>\n",
       "      <td>2</td>\n",
       "      <td>15647311</td>\n",
       "      <td>Hill</td>\n",
       "      <td>608</td>\n",
       "      <td>Spain</td>\n",
       "      <td>Female</td>\n",
       "      <td>41</td>\n",
       "      <td>1.0</td>\n",
       "      <td>83807.86</td>\n",
       "      <td>1</td>\n",
       "      <td>0</td>\n",
       "      <td>1</td>\n",
       "      <td>112542.58</td>\n",
       "      <td>0</td>\n",
       "    </tr>\n",
       "    <tr>\n",
       "      <th>2</th>\n",
       "      <td>3</td>\n",
       "      <td>15619304</td>\n",
       "      <td>Onio</td>\n",
       "      <td>502</td>\n",
       "      <td>France</td>\n",
       "      <td>Female</td>\n",
       "      <td>42</td>\n",
       "      <td>8.0</td>\n",
       "      <td>159660.80</td>\n",
       "      <td>3</td>\n",
       "      <td>1</td>\n",
       "      <td>0</td>\n",
       "      <td>113931.57</td>\n",
       "      <td>1</td>\n",
       "    </tr>\n",
       "    <tr>\n",
       "      <th>3</th>\n",
       "      <td>4</td>\n",
       "      <td>15701354</td>\n",
       "      <td>Boni</td>\n",
       "      <td>699</td>\n",
       "      <td>France</td>\n",
       "      <td>Female</td>\n",
       "      <td>39</td>\n",
       "      <td>1.0</td>\n",
       "      <td>0.00</td>\n",
       "      <td>2</td>\n",
       "      <td>0</td>\n",
       "      <td>0</td>\n",
       "      <td>93826.63</td>\n",
       "      <td>0</td>\n",
       "    </tr>\n",
       "    <tr>\n",
       "      <th>4</th>\n",
       "      <td>5</td>\n",
       "      <td>15737888</td>\n",
       "      <td>Mitchell</td>\n",
       "      <td>850</td>\n",
       "      <td>Spain</td>\n",
       "      <td>Female</td>\n",
       "      <td>43</td>\n",
       "      <td>2.0</td>\n",
       "      <td>125510.82</td>\n",
       "      <td>1</td>\n",
       "      <td>1</td>\n",
       "      <td>1</td>\n",
       "      <td>79084.10</td>\n",
       "      <td>0</td>\n",
       "    </tr>\n",
       "    <tr>\n",
       "      <th>5</th>\n",
       "      <td>6</td>\n",
       "      <td>15574012</td>\n",
       "      <td>Chu</td>\n",
       "      <td>645</td>\n",
       "      <td>Spain</td>\n",
       "      <td>Male</td>\n",
       "      <td>44</td>\n",
       "      <td>8.0</td>\n",
       "      <td>113755.78</td>\n",
       "      <td>2</td>\n",
       "      <td>1</td>\n",
       "      <td>0</td>\n",
       "      <td>149756.71</td>\n",
       "      <td>1</td>\n",
       "    </tr>\n",
       "    <tr>\n",
       "      <th>6</th>\n",
       "      <td>7</td>\n",
       "      <td>15592531</td>\n",
       "      <td>Bartlett</td>\n",
       "      <td>822</td>\n",
       "      <td>France</td>\n",
       "      <td>Male</td>\n",
       "      <td>50</td>\n",
       "      <td>7.0</td>\n",
       "      <td>0.00</td>\n",
       "      <td>2</td>\n",
       "      <td>1</td>\n",
       "      <td>1</td>\n",
       "      <td>10062.80</td>\n",
       "      <td>0</td>\n",
       "    </tr>\n",
       "    <tr>\n",
       "      <th>7</th>\n",
       "      <td>8</td>\n",
       "      <td>15656148</td>\n",
       "      <td>Obinna</td>\n",
       "      <td>376</td>\n",
       "      <td>Germany</td>\n",
       "      <td>Female</td>\n",
       "      <td>29</td>\n",
       "      <td>4.0</td>\n",
       "      <td>115046.74</td>\n",
       "      <td>4</td>\n",
       "      <td>1</td>\n",
       "      <td>0</td>\n",
       "      <td>119346.88</td>\n",
       "      <td>1</td>\n",
       "    </tr>\n",
       "    <tr>\n",
       "      <th>8</th>\n",
       "      <td>9</td>\n",
       "      <td>15792365</td>\n",
       "      <td>He</td>\n",
       "      <td>501</td>\n",
       "      <td>France</td>\n",
       "      <td>Male</td>\n",
       "      <td>44</td>\n",
       "      <td>4.0</td>\n",
       "      <td>142051.07</td>\n",
       "      <td>2</td>\n",
       "      <td>0</td>\n",
       "      <td>1</td>\n",
       "      <td>74940.50</td>\n",
       "      <td>0</td>\n",
       "    </tr>\n",
       "    <tr>\n",
       "      <th>9</th>\n",
       "      <td>10</td>\n",
       "      <td>15592389</td>\n",
       "      <td>H?</td>\n",
       "      <td>684</td>\n",
       "      <td>France</td>\n",
       "      <td>Male</td>\n",
       "      <td>27</td>\n",
       "      <td>2.0</td>\n",
       "      <td>134603.88</td>\n",
       "      <td>1</td>\n",
       "      <td>1</td>\n",
       "      <td>1</td>\n",
       "      <td>71725.73</td>\n",
       "      <td>0</td>\n",
       "    </tr>\n",
       "  </tbody>\n",
       "</table>\n",
       "</div>"
      ],
      "text/plain": [
       "   rownumber  customerid   surname  creditscore geography  gender  age  \\\n",
       "0          1    15634602  Hargrave          619    France  Female   42   \n",
       "1          2    15647311      Hill          608     Spain  Female   41   \n",
       "2          3    15619304      Onio          502    France  Female   42   \n",
       "3          4    15701354      Boni          699    France  Female   39   \n",
       "4          5    15737888  Mitchell          850     Spain  Female   43   \n",
       "5          6    15574012       Chu          645     Spain    Male   44   \n",
       "6          7    15592531  Bartlett          822    France    Male   50   \n",
       "7          8    15656148    Obinna          376   Germany  Female   29   \n",
       "8          9    15792365        He          501    France    Male   44   \n",
       "9         10    15592389        H?          684    France    Male   27   \n",
       "\n",
       "   tenure    balance  numofproducts  hascrcard  isactivemember  \\\n",
       "0     2.0       0.00              1          1               1   \n",
       "1     1.0   83807.86              1          0               1   \n",
       "2     8.0  159660.80              3          1               0   \n",
       "3     1.0       0.00              2          0               0   \n",
       "4     2.0  125510.82              1          1               1   \n",
       "5     8.0  113755.78              2          1               0   \n",
       "6     7.0       0.00              2          1               1   \n",
       "7     4.0  115046.74              4          1               0   \n",
       "8     4.0  142051.07              2          0               1   \n",
       "9     2.0  134603.88              1          1               1   \n",
       "\n",
       "   estimatedsalary  exited  \n",
       "0        101348.88       1  \n",
       "1        112542.58       0  \n",
       "2        113931.57       1  \n",
       "3         93826.63       0  \n",
       "4         79084.10       0  \n",
       "5        149756.71       1  \n",
       "6         10062.80       0  \n",
       "7        119346.88       1  \n",
       "8         74940.50       0  \n",
       "9         71725.73       0  "
      ]
     },
     "execution_count": 5,
     "metadata": {},
     "output_type": "execute_result"
    }
   ],
   "source": [
    "data.head(10)"
   ]
  },
  {
   "cell_type": "markdown",
   "metadata": {},
   "source": [
    "- Dentro de las columnas de datos de entrada se pueden identificar las siguientes:\n",
    "    - CreditScore, \n",
    "    - Geography, \n",
    "    - Gender, \n",
    "    - Age, \n",
    "    - Tenure, \n",
    "    - Balance, \n",
    "    - NumOfProducts, \n",
    "    - HasCrCard, \n",
    "    - IsActiveMember, \n",
    "    - EstimatedSalary.\n",
    "- El resultado de salida está definido en la columna Exited, que indica si el cliente ha abandonado el banco o no."
   ]
  },
  {
   "cell_type": "markdown",
   "metadata": {},
   "source": [
    "<div class=\"alert alert-block alert-danger\">\n",
    "\n",
    "<b>A resolver</b> <a class=\"tocSkip\"></a>\n",
    "\n",
    "~~Faltan comentarios en cada sección: explicaciones de lo que encuentras y por qué haces lo que haces.~~\n",
    "\n",
    "~~**ESTA CORRECCIÓN APLICA PARA TODO TU PROYECTO**~~\n",
    "</div>"
   ]
  },
  {
   "cell_type": "markdown",
   "metadata": {},
   "source": [
    "##### Tratamiento de datos ausentes"
   ]
  },
  {
   "cell_type": "markdown",
   "metadata": {},
   "source": [
    "Primero cuantificaré los datos ausentes en columna Tenure y crearé una tabla que indique sus medianas categorizadas por género y edad para rellenar los valores ausentes con ellos."
   ]
  },
  {
   "cell_type": "code",
   "execution_count": 6,
   "metadata": {},
   "outputs": [
    {
     "data": {
      "text/plain": [
       "909"
      ]
     },
     "execution_count": 6,
     "metadata": {},
     "output_type": "execute_result"
    }
   ],
   "source": [
    "data['tenure'].isna().sum()"
   ]
  },
  {
   "cell_type": "code",
   "execution_count": 7,
   "metadata": {},
   "outputs": [
    {
     "data": {
      "text/plain": [
       "array([42, 41, 39, 43, 44, 50, 29, 27, 31, 24, 34, 25, 35, 45, 58, 32, 38,\n",
       "       46, 36, 33, 40, 51, 61, 49, 37, 19, 66, 56, 26, 21, 55, 75, 22, 30,\n",
       "       28, 65, 48, 52, 57, 73, 47, 54, 72, 20, 67, 79, 62, 53, 80, 59, 68,\n",
       "       23, 60, 70, 63, 64, 18, 82, 69, 74, 71, 76, 77, 88, 85, 84, 78, 81,\n",
       "       92, 83])"
      ]
     },
     "execution_count": 7,
     "metadata": {},
     "output_type": "execute_result"
    }
   ],
   "source": [
    "data['age'].unique()"
   ]
  },
  {
   "cell_type": "code",
   "execution_count": 8,
   "metadata": {},
   "outputs": [],
   "source": [
    "def age_group(row):\n",
    "    age_row = row['age']\n",
    "    \n",
    "    if age_row <= 20:\n",
    "        return '<20'\n",
    "    if age_row <= 30:\n",
    "        return '20-30'\n",
    "    if age_row <= 40:\n",
    "        return '30-40'\n",
    "    if age_row <= 50:\n",
    "        return '40-50'\n",
    "    if age_row <= 60:\n",
    "        return '50-60'\n",
    "    if age_row <= 70:\n",
    "        return '60-70'\n",
    "    if age_row <= 100:\n",
    "        return '70+'"
   ]
  },
  {
   "cell_type": "code",
   "execution_count": 9,
   "metadata": {},
   "outputs": [],
   "source": [
    "data['age_group'] = data.apply(age_group, axis=1)"
   ]
  },
  {
   "cell_type": "code",
   "execution_count": 10,
   "metadata": {},
   "outputs": [],
   "source": [
    "data_median_summary = data.pivot_table(index=['gender','age_group'],values='tenure',aggfunc='median')"
   ]
  },
  {
   "cell_type": "code",
   "execution_count": 11,
   "metadata": {
    "scrolled": true
   },
   "outputs": [
    {
     "data": {
      "text/html": [
       "<div>\n",
       "<style scoped>\n",
       "    .dataframe tbody tr th:only-of-type {\n",
       "        vertical-align: middle;\n",
       "    }\n",
       "\n",
       "    .dataframe tbody tr th {\n",
       "        vertical-align: top;\n",
       "    }\n",
       "\n",
       "    .dataframe thead th {\n",
       "        text-align: right;\n",
       "    }\n",
       "</style>\n",
       "<table border=\"1\" class=\"dataframe\">\n",
       "  <thead>\n",
       "    <tr style=\"text-align: right;\">\n",
       "      <th></th>\n",
       "      <th></th>\n",
       "      <th>tenure</th>\n",
       "    </tr>\n",
       "    <tr>\n",
       "      <th>gender</th>\n",
       "      <th>age_group</th>\n",
       "      <th></th>\n",
       "    </tr>\n",
       "  </thead>\n",
       "  <tbody>\n",
       "    <tr>\n",
       "      <th rowspan=\"7\" valign=\"top\">Female</th>\n",
       "      <th>20-30</th>\n",
       "      <td>5.0</td>\n",
       "    </tr>\n",
       "    <tr>\n",
       "      <th>30-40</th>\n",
       "      <td>5.0</td>\n",
       "    </tr>\n",
       "    <tr>\n",
       "      <th>40-50</th>\n",
       "      <td>5.0</td>\n",
       "    </tr>\n",
       "    <tr>\n",
       "      <th>50-60</th>\n",
       "      <td>4.0</td>\n",
       "    </tr>\n",
       "    <tr>\n",
       "      <th>60-70</th>\n",
       "      <td>5.0</td>\n",
       "    </tr>\n",
       "    <tr>\n",
       "      <th>70+</th>\n",
       "      <td>5.5</td>\n",
       "    </tr>\n",
       "    <tr>\n",
       "      <th>&lt;20</th>\n",
       "      <td>4.0</td>\n",
       "    </tr>\n",
       "    <tr>\n",
       "      <th rowspan=\"7\" valign=\"top\">Male</th>\n",
       "      <th>20-30</th>\n",
       "      <td>5.0</td>\n",
       "    </tr>\n",
       "    <tr>\n",
       "      <th>30-40</th>\n",
       "      <td>5.0</td>\n",
       "    </tr>\n",
       "    <tr>\n",
       "      <th>40-50</th>\n",
       "      <td>5.0</td>\n",
       "    </tr>\n",
       "    <tr>\n",
       "      <th>50-60</th>\n",
       "      <td>5.0</td>\n",
       "    </tr>\n",
       "    <tr>\n",
       "      <th>60-70</th>\n",
       "      <td>5.0</td>\n",
       "    </tr>\n",
       "    <tr>\n",
       "      <th>70+</th>\n",
       "      <td>5.0</td>\n",
       "    </tr>\n",
       "    <tr>\n",
       "      <th>&lt;20</th>\n",
       "      <td>5.0</td>\n",
       "    </tr>\n",
       "  </tbody>\n",
       "</table>\n",
       "</div>"
      ],
      "text/plain": [
       "                  tenure\n",
       "gender age_group        \n",
       "Female 20-30         5.0\n",
       "       30-40         5.0\n",
       "       40-50         5.0\n",
       "       50-60         4.0\n",
       "       60-70         5.0\n",
       "       70+           5.5\n",
       "       <20           4.0\n",
       "Male   20-30         5.0\n",
       "       30-40         5.0\n",
       "       40-50         5.0\n",
       "       50-60         5.0\n",
       "       60-70         5.0\n",
       "       70+           5.0\n",
       "       <20           5.0"
      ]
     },
     "execution_count": 11,
     "metadata": {},
     "output_type": "execute_result"
    }
   ],
   "source": [
    "data_median_summary"
   ]
  },
  {
   "cell_type": "code",
   "execution_count": 12,
   "metadata": {},
   "outputs": [],
   "source": [
    "data_median_summary = data_median_summary.reset_index()"
   ]
  },
  {
   "cell_type": "code",
   "execution_count": 13,
   "metadata": {},
   "outputs": [],
   "source": [
    "data_median_summary.columns = ['gender_group','age_group','tenure_median']"
   ]
  },
  {
   "cell_type": "markdown",
   "metadata": {},
   "source": [
    "<div class=\"alert alert-block alert-warning\">\n",
    "<b>Atención</b> <a class=\"tocSkip\"></a>\n",
    "\n",
    "~~Puedes ser no tan eficiente crear una tabla con todas las edades, sería bueno que tu tabla tenga **rangos de edades**.~~</div>"
   ]
  },
  {
   "cell_type": "code",
   "execution_count": 14,
   "metadata": {},
   "outputs": [],
   "source": [
    "data['tenure'].fillna('unknown',inplace=True)"
   ]
  },
  {
   "cell_type": "code",
   "execution_count": 15,
   "metadata": {},
   "outputs": [],
   "source": [
    "def replace_tenure(row):\n",
    "    tenure_1=row['tenure']\n",
    "    age_group_1= row['age_group']\n",
    "    gender_1= row['gender']\n",
    "    if tenure_1=='unknown':\n",
    "        replacement_value=float(data_median_summary[(data_median_summary['gender_group']==gender_1)&(data_median_summary['age_group']==age_group_1)]['tenure_median'])\n",
    "        return replacement_value\n",
    "    else:\n",
    "        return tenure_1\n"
   ]
  },
  {
   "cell_type": "markdown",
   "metadata": {},
   "source": [
    "<div class=\"alert alert-block alert-danger\">\n",
    "\n",
    "<b>A resolver v2</b> <a class=\"tocSkip\"></a>\n",
    "\n",
    "~~Claro, obtienes errores porque actualizaste tu tabla pero no actualizaste tu función. Tu función tiene que usar la tabla `table_data` para rellenar ausentes~~\n",
    "\n",
    "</div>"
   ]
  },
  {
   "cell_type": "markdown",
   "metadata": {},
   "source": [
    "<div class=\"alert alert-block alert-danger\">\n",
    "\n",
    "<b>A resolver</b> <a class=\"tocSkip\"></a>\n",
    "\n",
    "~~No tienes que calcular la mediana, ya tu tabla tiene las medianas. Es decir, bastaría esto:~~\n",
    "\n",
    "`replacement_value=data_by_gender_age.loc[(data_by_gender_age['Gender']==gender_1)&(data_by_gender_age['Age']==age_1),'Tenure_median']`\n",
    "</div>"
   ]
  },
  {
   "cell_type": "code",
   "execution_count": 16,
   "metadata": {},
   "outputs": [],
   "source": [
    "data['tenure']=data.apply(replace_tenure,axis=1)"
   ]
  },
  {
   "cell_type": "code",
   "execution_count": 17,
   "metadata": {},
   "outputs": [],
   "source": [
    "data['tenure']=pd.to_numeric(data['tenure'], errors='coerce')"
   ]
  },
  {
   "cell_type": "code",
   "execution_count": 18,
   "metadata": {
    "scrolled": false
   },
   "outputs": [
    {
     "data": {
      "text/plain": [
       "rownumber          0\n",
       "customerid         0\n",
       "surname            0\n",
       "creditscore        0\n",
       "geography          0\n",
       "gender             0\n",
       "age                0\n",
       "tenure             0\n",
       "balance            0\n",
       "numofproducts      0\n",
       "hascrcard          0\n",
       "isactivemember     0\n",
       "estimatedsalary    0\n",
       "exited             0\n",
       "age_group          0\n",
       "dtype: int64"
      ]
     },
     "execution_count": 18,
     "metadata": {},
     "output_type": "execute_result"
    }
   ],
   "source": [
    "data.isna().sum()"
   ]
  },
  {
   "cell_type": "code",
   "execution_count": 19,
   "metadata": {},
   "outputs": [
    {
     "data": {
      "text/plain": [
       "array([ 2. ,  1. ,  8. ,  7. ,  4. ,  6. ,  3. , 10. ,  5. ,  9. ,  0. ,\n",
       "        5.5])"
      ]
     },
     "execution_count": 19,
     "metadata": {},
     "output_type": "execute_result"
    }
   ],
   "source": [
    "data['tenure'].unique()"
   ]
  },
  {
   "cell_type": "code",
   "execution_count": 20,
   "metadata": {},
   "outputs": [
    {
     "data": {
      "text/plain": [
       "dtype('float64')"
      ]
     },
     "execution_count": 20,
     "metadata": {},
     "output_type": "execute_result"
    }
   ],
   "source": [
    "data['tenure'].dtype"
   ]
  },
  {
   "cell_type": "markdown",
   "metadata": {},
   "source": [
    "Finalmente hemos tratado los datos ausentes y ya no tenemos más de ellos de acuerdo con la tabla anterior. Asegurando también que tenemos datos flotantes en la columna para ser usados por el modelo."
   ]
  },
  {
   "cell_type": "markdown",
   "metadata": {},
   "source": [
    "#### Modelo de árbol de decisión con condificación de etiquetas"
   ]
  },
  {
   "cell_type": "markdown",
   "metadata": {},
   "source": [
    "Para utilizar el modelo de árbol de decisión y bosque aleatorio voy a acoplar los datos para su uso, eliminando columnas que no son relevantes y añadiendo un par de columnas para convertir las variables categóricas en variables ordinales."
   ]
  },
  {
   "cell_type": "code",
   "execution_count": 21,
   "metadata": {},
   "outputs": [],
   "source": [
    "data_non_numeric = data.loc[:,['geography','gender']]"
   ]
  },
  {
   "cell_type": "code",
   "execution_count": 22,
   "metadata": {},
   "outputs": [],
   "source": [
    "encoder = OrdinalEncoder()\n",
    "data_ordinal = pd.DataFrame(encoder.fit_transform(data_non_numeric), columns=data_non_numeric.columns)"
   ]
  },
  {
   "cell_type": "code",
   "execution_count": 23,
   "metadata": {},
   "outputs": [],
   "source": [
    "data['geography_ord'] = data_ordinal['geography']\n",
    "data['gender_ord'] = data_ordinal['gender']"
   ]
  },
  {
   "cell_type": "code",
   "execution_count": 24,
   "metadata": {},
   "outputs": [
    {
     "data": {
      "text/plain": [
       "Index(['rownumber', 'customerid', 'surname', 'creditscore', 'geography',\n",
       "       'gender', 'age', 'tenure', 'balance', 'numofproducts', 'hascrcard',\n",
       "       'isactivemember', 'estimatedsalary', 'exited', 'age_group',\n",
       "       'geography_ord', 'gender_ord'],\n",
       "      dtype='object')"
      ]
     },
     "execution_count": 24,
     "metadata": {},
     "output_type": "execute_result"
    }
   ],
   "source": [
    "data.columns"
   ]
  },
  {
   "cell_type": "code",
   "execution_count": 25,
   "metadata": {},
   "outputs": [],
   "source": [
    "data_for_model = data.drop(['rownumber','customerid','surname','geography','gender','age_group'], axis=1)"
   ]
  },
  {
   "cell_type": "markdown",
   "metadata": {},
   "source": [
    "<div class=\"alert alert-block alert-success\">\n",
    "<b>Éxito</b> <a class=\"tocSkip\"></a>\n",
    "\n",
    "Bien seleccionadas las columnas    \n",
    "</div>"
   ]
  },
  {
   "cell_type": "markdown",
   "metadata": {},
   "source": [
    "La tabla de entradas y salidas para el modelo de árbol de decisión y bosque aleatorio está lista como se muestra a continuación."
   ]
  },
  {
   "cell_type": "code",
   "execution_count": 26,
   "metadata": {},
   "outputs": [
    {
     "name": "stdout",
     "output_type": "stream",
     "text": [
      "<class 'pandas.core.frame.DataFrame'>\n",
      "RangeIndex: 10000 entries, 0 to 9999\n",
      "Data columns (total 11 columns):\n",
      " #   Column           Non-Null Count  Dtype  \n",
      "---  ------           --------------  -----  \n",
      " 0   creditscore      10000 non-null  int64  \n",
      " 1   age              10000 non-null  int64  \n",
      " 2   tenure           10000 non-null  float64\n",
      " 3   balance          10000 non-null  float64\n",
      " 4   numofproducts    10000 non-null  int64  \n",
      " 5   hascrcard        10000 non-null  int64  \n",
      " 6   isactivemember   10000 non-null  int64  \n",
      " 7   estimatedsalary  10000 non-null  float64\n",
      " 8   exited           10000 non-null  int64  \n",
      " 9   geography_ord    10000 non-null  float64\n",
      " 10  gender_ord       10000 non-null  float64\n",
      "dtypes: float64(5), int64(6)\n",
      "memory usage: 859.5 KB\n"
     ]
    }
   ],
   "source": [
    "data_for_model.info()"
   ]
  },
  {
   "cell_type": "code",
   "execution_count": 27,
   "metadata": {
    "scrolled": false
   },
   "outputs": [
    {
     "data": {
      "text/html": [
       "<div>\n",
       "<style scoped>\n",
       "    .dataframe tbody tr th:only-of-type {\n",
       "        vertical-align: middle;\n",
       "    }\n",
       "\n",
       "    .dataframe tbody tr th {\n",
       "        vertical-align: top;\n",
       "    }\n",
       "\n",
       "    .dataframe thead th {\n",
       "        text-align: right;\n",
       "    }\n",
       "</style>\n",
       "<table border=\"1\" class=\"dataframe\">\n",
       "  <thead>\n",
       "    <tr style=\"text-align: right;\">\n",
       "      <th></th>\n",
       "      <th>creditscore</th>\n",
       "      <th>age</th>\n",
       "      <th>tenure</th>\n",
       "      <th>balance</th>\n",
       "      <th>numofproducts</th>\n",
       "      <th>hascrcard</th>\n",
       "      <th>isactivemember</th>\n",
       "      <th>estimatedsalary</th>\n",
       "      <th>exited</th>\n",
       "      <th>geography_ord</th>\n",
       "      <th>gender_ord</th>\n",
       "    </tr>\n",
       "  </thead>\n",
       "  <tbody>\n",
       "    <tr>\n",
       "      <th>0</th>\n",
       "      <td>619</td>\n",
       "      <td>42</td>\n",
       "      <td>2.0</td>\n",
       "      <td>0.00</td>\n",
       "      <td>1</td>\n",
       "      <td>1</td>\n",
       "      <td>1</td>\n",
       "      <td>101348.88</td>\n",
       "      <td>1</td>\n",
       "      <td>0.0</td>\n",
       "      <td>0.0</td>\n",
       "    </tr>\n",
       "    <tr>\n",
       "      <th>1</th>\n",
       "      <td>608</td>\n",
       "      <td>41</td>\n",
       "      <td>1.0</td>\n",
       "      <td>83807.86</td>\n",
       "      <td>1</td>\n",
       "      <td>0</td>\n",
       "      <td>1</td>\n",
       "      <td>112542.58</td>\n",
       "      <td>0</td>\n",
       "      <td>2.0</td>\n",
       "      <td>0.0</td>\n",
       "    </tr>\n",
       "    <tr>\n",
       "      <th>2</th>\n",
       "      <td>502</td>\n",
       "      <td>42</td>\n",
       "      <td>8.0</td>\n",
       "      <td>159660.80</td>\n",
       "      <td>3</td>\n",
       "      <td>1</td>\n",
       "      <td>0</td>\n",
       "      <td>113931.57</td>\n",
       "      <td>1</td>\n",
       "      <td>0.0</td>\n",
       "      <td>0.0</td>\n",
       "    </tr>\n",
       "    <tr>\n",
       "      <th>3</th>\n",
       "      <td>699</td>\n",
       "      <td>39</td>\n",
       "      <td>1.0</td>\n",
       "      <td>0.00</td>\n",
       "      <td>2</td>\n",
       "      <td>0</td>\n",
       "      <td>0</td>\n",
       "      <td>93826.63</td>\n",
       "      <td>0</td>\n",
       "      <td>0.0</td>\n",
       "      <td>0.0</td>\n",
       "    </tr>\n",
       "    <tr>\n",
       "      <th>4</th>\n",
       "      <td>850</td>\n",
       "      <td>43</td>\n",
       "      <td>2.0</td>\n",
       "      <td>125510.82</td>\n",
       "      <td>1</td>\n",
       "      <td>1</td>\n",
       "      <td>1</td>\n",
       "      <td>79084.10</td>\n",
       "      <td>0</td>\n",
       "      <td>2.0</td>\n",
       "      <td>0.0</td>\n",
       "    </tr>\n",
       "  </tbody>\n",
       "</table>\n",
       "</div>"
      ],
      "text/plain": [
       "   creditscore  age  tenure    balance  numofproducts  hascrcard  \\\n",
       "0          619   42     2.0       0.00              1          1   \n",
       "1          608   41     1.0   83807.86              1          0   \n",
       "2          502   42     8.0  159660.80              3          1   \n",
       "3          699   39     1.0       0.00              2          0   \n",
       "4          850   43     2.0  125510.82              1          1   \n",
       "\n",
       "   isactivemember  estimatedsalary  exited  geography_ord  gender_ord  \n",
       "0               1        101348.88       1            0.0         0.0  \n",
       "1               1        112542.58       0            2.0         0.0  \n",
       "2               0        113931.57       1            0.0         0.0  \n",
       "3               0         93826.63       0            0.0         0.0  \n",
       "4               1         79084.10       0            2.0         0.0  "
      ]
     },
     "execution_count": 27,
     "metadata": {},
     "output_type": "execute_result"
    }
   ],
   "source": [
    "data_for_model.head()"
   ]
  },
  {
   "cell_type": "markdown",
   "metadata": {},
   "source": [
    "##### Entrenamiento del modelo y cálculo de valor F1 sin ajuste."
   ]
  },
  {
   "cell_type": "markdown",
   "metadata": {},
   "source": [
    "A continuación realizaré la separación de los conjuntos de datos de entrenamiento, validación y prueba de acuerdo con la convención 3:1:1. Los conjuntos de Validación y prueba se dividirán en proporciones iguales de un 40% (50/50) y el conjunto de entrenamiento será del 60% del set original."
   ]
  },
  {
   "cell_type": "code",
   "execution_count": 28,
   "metadata": {},
   "outputs": [],
   "source": [
    "target = data_for_model['exited']\n",
    "features = data_for_model.drop('exited', axis=1)"
   ]
  },
  {
   "cell_type": "code",
   "execution_count": 29,
   "metadata": {},
   "outputs": [],
   "source": [
    "features_train, features_valid_test, target_train, target_valid_test = train_test_split(features, target, test_size=0.4, random_state=12345, stratify=target)\n",
    "features_valid, features_test, target_valid, target_test = train_test_split(features_valid_test, target_valid_test, test_size=0.5, random_state=12345, stratify=target_valid_test)\n"
   ]
  },
  {
   "cell_type": "markdown",
   "metadata": {},
   "source": [
    "</div><div class=\"alert alert-block alert-danger\">\n",
    "\n",
    "<b>A resolver v4</b> <a class=\"tocSkip\"></a>\n",
    "\n",
    "~~Si te fijas atentamente, **verás que tu código de arriba no es correcto, de nuevo**. Mejor analiza atentamente, entiende, y copia y pega simplemente mi código del comentario amarillo de abajo para ya evitar errores de una vez por todas. **Ya te había dado este consejo la iteración pasada, es perfectamente válido y práctico copiar y pegar el código que te dejamos los revisores, SIEMPRE Y CUANDO LO COMPRENDAS BIEN.**~~</div>"
   ]
  },
  {
   "cell_type": "markdown",
   "metadata": {},
   "source": [
    "<div class=\"alert alert-block alert-warning\">\n",
    "<b>Atención v2</b> <a class=\"tocSkip\"></a>\n",
    "\n",
    "~~Un **consejo importante**: para mantener el mismo balanceo de clases en todos los conjuntos que separes, puedes usar la opción `stratify=`:~~\n",
    "\n",
    "`features_train_1, features_valid_test_1, target_train_1, target_valid_test_1 = train_test_split(features, target, test_size=0.4, random_state=12345, stratify=target)\n",
    "features_valid_1, features_test_1, target_valid_1, target_test_1 = train_test_split(features_valid_test_1, target_valid_test_1, test_size=0.5, random_state=12345, stratify=target_valid_test_1)`\n",
    "    \n",
    "~~Esto te evitará posibles quebraderos de cabeza posteriores.~~    \n",
    "    "
   ]
  },
  {
   "cell_type": "markdown",
   "metadata": {},
   "source": [
    "<div class=\"alert alert-block alert-danger\">\n",
    "\n",
    "<b>A resolver v3</b> <a class=\"tocSkip\"></a>\n",
    "\n",
    "~~No aplicaste mi corrección de abajo tal cual te la puse. Inclusive te puse el código completo para que simplemente lo copiaras y pegaras. **Por no seguir mi corrección, no creaste los conjuntos correctos y los conjuntos no están en las proporciones correctas, 3:1:1.** Por favor aplica mis correcciones al pie de la letra.~~  </div>"
   ]
  },
  {
   "cell_type": "markdown",
   "metadata": {},
   "source": [
    "<div class=\"alert alert-block alert-info\">\n",
    "<b>Respuesta del estudiante.</b> <a class=\"tocSkip\"></a>\n",
    "Listo, ya entendí el propósito de los conjuntos.\n",
    "\n",
    "</div>"
   ]
  },
  {
   "cell_type": "code",
   "execution_count": 30,
   "metadata": {},
   "outputs": [
    {
     "name": "stdout",
     "output_type": "stream",
     "text": [
      "F1_score sin ajuste de peso: 0.5070093457943926\n"
     ]
    }
   ],
   "source": [
    "model = DecisionTreeClassifier(random_state=12345)\n",
    "model.fit(features_train, target_train)\n",
    "predicted_valid = model.predict(features_valid)\n",
    "print('F1_score sin ajuste de peso:', f1_score(target_valid, predicted_valid))"
   ]
  },
  {
   "cell_type": "markdown",
   "metadata": {},
   "source": [
    "<div class=\"alert alert-block alert-danger\">\n",
    "\n",
    "<b>A resolver v4</b> <a class=\"tocSkip\"></a>\n",
    "\n",
    "~~En el proyecto los conjuntos a usar son **el de entrenamiento, el de validación y el de prueba**. Es decir, en el caso de la celda de arriba, debes de usar `features_valid` en lugar de `features_valid_test`, y `target_valid` en lugar de `target_valid_test`. Los conjuntos `_valid_test`, son los conjuntos de validación y prueba fusionados, simplemente representan un paso intermedio en la creación de tus tres conjuntos.~~\n",
    "\n",
    "~~**ESTA CORRECCIÓN APLICA PARA TODO TU PROYECTO.**~~\n",
    "</div>"
   ]
  },
  {
   "cell_type": "markdown",
   "metadata": {},
   "source": [
    "<div class=\"alert alert-block alert-info\">\n",
    "<b>Respuesta del estudiante.</b> <a class=\"tocSkip\"></a>\n",
    "Listo, ya me queda claro el propósito de los conjuntos _valid_test.\n",
    "\n",
    "</div>"
   ]
  },
  {
   "cell_type": "markdown",
   "metadata": {},
   "source": [
    "<div class=\"alert alert-block alert-danger\">\n",
    "\n",
    "<b>A resolver v2</b> <a class=\"tocSkip\"></a>\n",
    "\n",
    "~~No creaste los 3 conjuntos como te comenté en la corrección. Se haría así, por ejemplo:~~\n",
    "\n",
    "`features_train_1, features_valid_test_1, target_train_1, target_valid_test_1 = train_test_split(features, target, test_size=0.4, random_state=12345)\n",
    "features_valid_1, features_test_1, target_valid_1, target_test_1 = train_test_split(features_valid_test_1, target_valid_test_1, test_size=0.5, random_state=12345)`\n",
    "</div>"
   ]
  },
  {
   "cell_type": "markdown",
   "metadata": {},
   "source": [
    "<div class=\"alert alert-block alert-danger\">\n",
    "\n",
    "<b>A resolver</b> <a class=\"tocSkip\"></a>\n",
    "\n",
    "* ~~Debes de codificar **sólo** las columnas que **no sean ya numéricas**, como Geography.~~\n",
    "\n",
    "* ~~Debes de dividir en conjuntos de entrenamiento, validación y prueba, en proporción 3:1:1. **El conjunto de validación es el que usarás en todas las siguientes secciones** y el modelo de prueba lo usarás hasta el final, en la prueba final, probando sólo el mejor modelo que encontraste en la fase de validación~~\n",
    "</div>"
   ]
  },
  {
   "cell_type": "markdown",
   "metadata": {},
   "source": [
    "<div class=\"alert alert-block alert-danger\">\n",
    "\n",
    "<b>A resolver</b> <a class=\"tocSkip\"></a>\n",
    "\n",
    "~~En este proyecto el mejor modelo es el que tiene el mejor F1, no el que tiene la mejor exactitud, así que **la métrica a usar en los bucles es el f1.**~~\n",
    "\n",
    "~~**ESTA CORRECCIÓN APLICA PARA TODO TU PROYECTO**~~\n",
    "</div>"
   ]
  },
  {
   "cell_type": "markdown",
   "metadata": {},
   "source": [
    "##### Prueba de consistencia"
   ]
  },
  {
   "cell_type": "code",
   "execution_count": 31,
   "metadata": {
    "scrolled": true
   },
   "outputs": [
    {
     "name": "stdout",
     "output_type": "stream",
     "text": [
      "0    0.796333\n",
      "1    0.203667\n",
      "Name: exited, dtype: float64\n"
     ]
    },
    {
     "data": {
      "text/plain": [
       "<AxesSubplot:>"
      ]
     },
     "execution_count": 31,
     "metadata": {},
     "output_type": "execute_result"
    },
    {
     "data": {
      "image/png": "[encoded data removed]",
      "text/plain": [
       "<Figure size 216x144 with 1 Axes>"
      ]
     },
     "metadata": {
      "needs_background": "light"
     },
     "output_type": "display_data"
    }
   ],
   "source": [
    "#predicted_valid_series = pd.Series(model.predict(features_valid_test))\n",
    "class_frequency = target_train.value_counts(normalize=True)\n",
    "print(class_frequency)\n",
    "class_frequency.plot(kind='bar',figsize=(3, 2))"
   ]
  },
  {
   "cell_type": "markdown",
   "metadata": {},
   "source": [
    "<div class=\"alert alert-block alert-danger\">\n",
    "\n",
    "<b>A resolver v4</b> <a class=\"tocSkip\"></a>\n",
    "\n",
    "~~El desbalanceo **siempre se analiza a partir del conjunto de target de entrenamiento**, en este caso de `target_train`. No se observa el desbalanceo a partir de las predicciones, en ningún caso, porque lo que tú quieres ver es el desbalanceo del conjunto con el que entrenas tus datos, ESO ES LO QUE IMPORTA.~~\n",
    "    \n",
    "~~**ESTA CORRECCIÓN APLICA PARA TODO TU PROYECTO.**~~    "
   ]
  },
  {
   "cell_type": "markdown",
   "metadata": {},
   "source": [
    "<div class=\"alert alert-block alert-info\">\n",
    "<b>Respuesta del estudiante.</b> <a class=\"tocSkip\"></a>\n",
    "Listo, el desbalanceo ha quedado medido desde el conjunto de entrenamiento.\n",
    "\n",
    "</div>"
   ]
  },
  {
   "cell_type": "markdown",
   "metadata": {},
   "source": [
    "<div class=\"alert alert-block alert-success\">\n",
    "<b>Éxito</b> <a class=\"tocSkip\"></a>\n",
    "\n",
    "Bien analizar el desbalanceo    \n",
    "</div>"
   ]
  },
  {
   "cell_type": "markdown",
   "metadata": {},
   "source": [
    "El 79.63% de los datos corresponde a predicciones negativas.\n",
    "El 20.37% restante corresponde a predicciones positivas.\n",
    "Se confirma que existe un desequilibrio entre las clases que requiere ser ajustado."
   ]
  },
  {
   "cell_type": "markdown",
   "metadata": {},
   "source": [
    "##### Ajuste de peso de clase con sobremuestreo"
   ]
  },
  {
   "cell_type": "code",
   "execution_count": 32,
   "metadata": {},
   "outputs": [],
   "source": [
    "def upsample(features, target, repeat):\n",
    "    features_zeros = features[target == 0]\n",
    "    features_ones = features[target == 1]\n",
    "    target_zeros = target[target == 0]\n",
    "    target_ones = target[target == 1]\n",
    "\n",
    "    features_upsampled = pd.concat([features_zeros] + [features_ones] * repeat)\n",
    "    target_upsampled = pd.concat([target_zeros] + [target_ones] * repeat)\n",
    "\n",
    "    features_upsampled, target_upsampled = shuffle(\n",
    "        features_upsampled, target_upsampled, random_state=12345)\n",
    "\n",
    "    return features_upsampled, target_upsampled"
   ]
  },
  {
   "cell_type": "code",
   "execution_count": 33,
   "metadata": {},
   "outputs": [],
   "source": [
    "features_upsampled_1, target_upsampled_1 = upsample(features_train, target_train, 4)"
   ]
  },
  {
   "cell_type": "markdown",
   "metadata": {},
   "source": [
    "<div class=\"alert alert-block alert-success\">\n",
    "<b>Éxito v4</b> <a class=\"tocSkip\"></a>\n",
    "\n",
    "Correcto! 4 es el valor de `repeat` óptimo.    \n",
    "</div>"
   ]
  },
  {
   "cell_type": "code",
   "execution_count": 34,
   "metadata": {},
   "outputs": [
    {
     "name": "stdout",
     "output_type": "stream",
     "text": [
      "Mejor F1_score con sobremuestreo (max_depth = 7): 0.5787545787545788\n"
     ]
    }
   ],
   "source": [
    "best_F1_up = 0\n",
    "best_depth_up = 0\n",
    "for depth in range(1, 10):\n",
    "    model = DecisionTreeClassifier(random_state=12345, max_depth=depth)\n",
    "    model.fit(features_upsampled_1, target_upsampled_1)\n",
    "    predicted_valid = model.predict(features_valid)\n",
    "    F1 = f1_score(target_valid, predicted_valid)\n",
    "    if F1 > best_F1_up:\n",
    "        best_F1_up = F1\n",
    "        best_depth_up = depth\n",
    "print(\"Mejor F1_score con sobremuestreo (max_depth = {}): {}\".format(best_depth_up, best_F1_up))"
   ]
  },
  {
   "cell_type": "markdown",
   "metadata": {},
   "source": [
    "<div class=\"alert alert-block alert-danger\">\n",
    "\n",
    "<b>A resolver v2</b> <a class=\"tocSkip\"></a>\n",
    "\n",
    "* ~~Te faltó aplicar una de mis correcciones del comentario de abajo. Hay que seleccionar los mejores hiperparámetros para el árbol de decisión **para estos nuevos conjuntos `_upsampled_1`**. Puedes usar un bucle para ello.~~\n",
    "\n",
    "* ~~Para no tener que probar diversos valores de `repeat` en la función `upsample()`, puedes simplemente observar el desbalanceo de clases y hacer una sencilla operación aritmética. **En este caso específico**, por ejemplo, tienes 90% de ceros y 10% de unos, así que el `repeat` para dejar tus clases balanceadas perfectamente sería 90%/10% = 9.~~\n",
    "</div>"
   ]
  },
  {
   "cell_type": "markdown",
   "metadata": {},
   "source": [
    "<div class=\"alert alert-block alert-danger\">\n",
    "\n",
    "<b>A resolver</b> <a class=\"tocSkip\"></a>\n",
    "\n",
    "* ~~La idea de usar estas estrategias es balancear las clases. Si usas un valor de `repeat` igual a 10, es un valor enorme para el desbalanceo que tienes actualmente, así que ocurre un desbalanceo contrario. **Debes de usar otro valor**. Qué valor hay que usar si tienes 80% de clases cero y 20% de clases 1?~~\n",
    "\n",
    "* ~~Estás probando el mejor modelo que obtuviste cuando no habías balanceado las clases. Éste no tiene que ser el mejor modelo también para este nuevo caso en el que las clases ya están balanceadas mediante sobremuestreo. Debes de implementar un nuevo bucle sobre diferentes hiperparámetros para encontrar el modelo con el mejor F1, usando estos conjuntos ya balanceados~~\n",
    "</div>"
   ]
  },
  {
   "cell_type": "markdown",
   "metadata": {},
   "source": [
    "<div class=\"alert alert-block alert-info\">\n",
    "<b>Respuesta del estudiante.</b> <a class=\"tocSkip\"></a>\n",
    "El bucle mostrado arriba ya selecciona el mejor hiperparámetro (max_depth = 4) para el conjunto _upsampled_1. \n",
    "El valor repeat sigue la convención 80%/20%.\n",
    "</div>"
   ]
  },
  {
   "cell_type": "markdown",
   "metadata": {},
   "source": [
    "##### Ajuste de prueba de clase con submuestreo"
   ]
  },
  {
   "cell_type": "code",
   "execution_count": 35,
   "metadata": {},
   "outputs": [],
   "source": [
    "def downsample(features, target, fraction):\n",
    "    features_zeros = features[target == 0]\n",
    "    features_ones = features[target == 1]\n",
    "    target_zeros = target[target == 0]\n",
    "    target_ones = target[target == 1]\n",
    "\n",
    "    features_downsampled = pd.concat(\n",
    "        [features_zeros.sample(frac=fraction, random_state=12345)]\n",
    "        + [features_ones])\n",
    "    target_downsampled = pd.concat(\n",
    "        [target_zeros.sample(frac=fraction, random_state=12345)]\n",
    "        + [target_ones])\n",
    "\n",
    "    features_downsampled, target_downsampled = shuffle(\n",
    "        features_downsampled, target_downsampled, random_state=12345)\n",
    "\n",
    "    return features_downsampled, target_downsampled"
   ]
  },
  {
   "cell_type": "code",
   "execution_count": 36,
   "metadata": {},
   "outputs": [],
   "source": [
    "features_downsampled_1, target_downsampled_1 = downsample(features_train, target_train, 0.25)"
   ]
  },
  {
   "cell_type": "markdown",
   "metadata": {},
   "source": [
    "<div class=\"alert alert-block alert-success\">\n",
    "<b>Éxito v4</b> <a class=\"tocSkip\"></a>\n",
    "\n",
    "Correcto! 0.25 es el valor de `fraction` óptimo.    \n",
    "</div>"
   ]
  },
  {
   "cell_type": "code",
   "execution_count": 37,
   "metadata": {},
   "outputs": [
    {
     "name": "stdout",
     "output_type": "stream",
     "text": [
      "Mejor F1_score con submuestreo (max_depth = 6): 0.5874125874125874\n"
     ]
    }
   ],
   "source": [
    "best_F1_down = 0\n",
    "best_depth_down = 0\n",
    "for depth in range(1, 10):\n",
    "    model = DecisionTreeClassifier(random_state=12345, max_depth=depth)\n",
    "    model.fit(features_downsampled_1, target_downsampled_1)\n",
    "    predicted_valid = model.predict(features_valid)\n",
    "    F1 = f1_score(target_valid, predicted_valid)\n",
    "    if F1 > best_F1_down:\n",
    "        best_F1_down = F1\n",
    "        best_depth_down = depth\n",
    "print(\"Mejor F1_score con submuestreo (max_depth = {}): {}\".format(best_depth_down, best_F1_down))"
   ]
  },
  {
   "cell_type": "markdown",
   "metadata": {},
   "source": [
    "<div class=\"alert alert-block alert-danger\">\n",
    "\n",
    "<b>A resolver v2</b> <a class=\"tocSkip\"></a>\n",
    "\n",
    "* ~~Te faltó aplicar una de mis correcciones del comentario de abajo. Hay que seleccionar los mejores hiperparámetros para el árbol de decisión **para estos nuevos conjuntos `_downsampled_1`**. Puedes usar un bucle para ello.~~\n",
    "\n",
    "* ~~Para no tener que probar diversos valores de `fraction` en la función `downsample()`, puedes simplemente observar el desbalanceo de clases y hacer una sencilla operación aritmética. **En este caso específico**, por ejemplo, tienes 90% de ceros y 10% de unos, así que el `fraction` para dejar tus clases balanceadas perfectamente sería 10%/90% = 0.111.~~\n",
    "</div>"
   ]
  },
  {
   "cell_type": "markdown",
   "metadata": {},
   "source": [
    "<div class=\"alert alert-block alert-danger\">\n",
    "\n",
    "<b>A resolver</b> <a class=\"tocSkip\"></a>\n",
    "\n",
    "~~Mismas correcciones que antes~~    \n",
    "    \n",
    "* ~~La idea de usar estas estrategias es balancear las clases. Si usas un valor de `fraction` igual a 0.1, es un valor muye pequeño para el desbalanceo que tienes actualmente, así que ocurre un desbalanceo contrario. Debes de usar otro valor. Qué valor hay que usar si tienes 80% de clases cero y 20% de clases 1?~~\n",
    "\n",
    "* ~~Estás probando el mejor modelo que obtuviste cuando no habías balanceado las clases. Éste no tiene que ser el mejor modelo también en el caso en el que las clases ya están balanceadas mediante submuestreo. Debes de implementar un nuevo bucle sobre diferentes hiperparámetros para encontrar el modelo con el mejor F1, usando estos conjuntos ya balanceados~~\n",
    "</div>"
   ]
  },
  {
   "cell_type": "markdown",
   "metadata": {},
   "source": [
    "<div class=\"alert alert-block alert-info\">\n",
    "<b>Respuesta del estudiante.</b> <a class=\"tocSkip\"></a>\n",
    "El bucle mostrado arriba ya selecciona el mejor hiperparámetro (max_depth = 4) para el conjunto _downsampled_1. \n",
    "El valor repeat sigue la convención 20%/80%.\n",
    "</div>"
   ]
  },
  {
   "cell_type": "markdown",
   "metadata": {},
   "source": [
    "#### Modelo de bosque aleatorio con condificación de etiquetas "
   ]
  },
  {
   "cell_type": "markdown",
   "metadata": {},
   "source": [
    "<div class=\"alert alert-block alert-warning\">\n",
    "<b>Atención</b> <a class=\"tocSkip\"></a>\n",
    "\n",
    "~~No te recomiendo hacer un bucle del bosque aleatorio en esta parte, ya que de todos modos harás bucles cuando experimentes con técnicas de balanceo con este modelo. Te recomiendo simplemente en esta parte probar un modelo con x hiperparámetros para el bosque aleatorio, y listo.~~"
   ]
  },
  {
   "cell_type": "markdown",
   "metadata": {},
   "source": [
    "##### Entrenamiento del modelo y cálculo de F1 sin ajuste"
   ]
  },
  {
   "cell_type": "code",
   "execution_count": 38,
   "metadata": {},
   "outputs": [
    {
     "name": "stdout",
     "output_type": "stream",
     "text": [
      "F1_score sin ajuste de peso: 0.5972434915773354\n"
     ]
    }
   ],
   "source": [
    "model = RandomForestClassifier(random_state=54321)\n",
    "model.fit(features_train, target_train)\n",
    "predicted_valid = model.predict(features_valid)\n",
    "\n",
    "print('F1_score sin ajuste de peso:', f1_score(target_valid, predicted_valid))"
   ]
  },
  {
   "cell_type": "markdown",
   "metadata": {},
   "source": [
    "<div class=\"alert alert-block alert-danger\">\n",
    "\n",
    "<b>A resolver v2</b> <a class=\"tocSkip\"></a>\n",
    "\n",
    "~~No es necesario dividir en conjuntos de entrenamieno y validación otra vez, y de hecho, no hay que hacerlo, por consistencia hay que usar los mismos conjuntos que usaste cuando validaste el árbol de decisión.~~</div>"
   ]
  },
  {
   "cell_type": "markdown",
   "metadata": {},
   "source": [
    "<div class=\"alert alert-block alert-info\">\n",
    "<b>Respuesta del estudiante.</b> <a class=\"tocSkip\"></a>\n",
    "Para este modelo he utilizado los mismos conjuntos de entrenamiento y validación que anteriormente: features_train, target_train; y features_valid, target_valid. \n",
    "</div>"
   ]
  },
  {
   "cell_type": "markdown",
   "metadata": {},
   "source": [
    "<div class=\"alert alert-block alert-danger\">\n",
    "\n",
    "<b>A resolver</b> <a class=\"tocSkip\"></a>\n",
    "\n",
    "~~**Por congruencia y para mejor comparación entre los diferentes modelos**, debes de aplicar las mismas técnicas de balanceo a **todos los modelos que uses**, es decir, con el bosque aleatorio te faltó usar **sobremuestreo y submuestreo**. Y no olvides tomar en cuenta las correcciones que te hice anteriormente en estos análisis nuevos que harás~~"
   ]
  },
  {
   "cell_type": "markdown",
   "metadata": {},
   "source": [
    "<div class=\"alert alert-block alert-warning\">\n",
    "<b>Atención</b> <a class=\"tocSkip\"></a>\n",
    "\n",
    "Para los bucles del bosque aleatorio se recomienda iterar tanto en diferentes valores del no. de iteradores, como de la profundidad máxima. Y se recomienda que el número de iteradores se vaya aumentando de 10 en 10 en cada iteración porque así se nota más el cambio en la calidad del modelo. </div>"
   ]
  },
  {
   "cell_type": "markdown",
   "metadata": {},
   "source": [
    "##### Prueba de consistencia"
   ]
  },
  {
   "cell_type": "code",
   "execution_count": 39,
   "metadata": {
    "scrolled": true
   },
   "outputs": [
    {
     "name": "stdout",
     "output_type": "stream",
     "text": [
      "0    0.796333\n",
      "1    0.203667\n",
      "Name: exited, dtype: float64\n"
     ]
    },
    {
     "data": {
      "text/plain": [
       "<AxesSubplot:>"
      ]
     },
     "execution_count": 39,
     "metadata": {},
     "output_type": "execute_result"
    },
    {
     "data": {
      "image/png": "[encoded data removed]",
      "text/plain": [
       "<Figure size 216x144 with 1 Axes>"
      ]
     },
     "metadata": {
      "needs_background": "light"
     },
     "output_type": "display_data"
    }
   ],
   "source": [
    "#predicted_valid_series = pd.Series(model.predict(features_valid))\n",
    "class_frequency = target_train.value_counts(normalize=True)\n",
    "print(class_frequency)\n",
    "class_frequency.plot(kind='bar', figsize=(3, 2))"
   ]
  },
  {
   "cell_type": "markdown",
   "metadata": {},
   "source": [
    "El 79.63% de los datos corresponde a predicciones negativas.\n",
    "El 20.36% restante corresponde a predicciones positivas.\n",
    "Se confirma que existe un desequilibrio entre las clases que requiere ser ajustado."
   ]
  },
  {
   "cell_type": "markdown",
   "metadata": {},
   "source": [
    "##### Ajuste de peso de clase con sobremuestreo"
   ]
  },
  {
   "cell_type": "code",
   "execution_count": 40,
   "metadata": {},
   "outputs": [],
   "source": [
    "#features_upsampled_2, target_upsampled_2 = upsample(features_train, target_train, 4)"
   ]
  },
  {
   "cell_type": "markdown",
   "metadata": {},
   "source": [
    "<div class=\"alert alert-block alert-warning\">\n",
    "<b>Atención v4</b> <a class=\"tocSkip\"></a>\n",
    "\n",
    "Una disculpa, la otra iteración se me pasó darte la recomendación de que puedes usar los mismos conjuntos `_upsampled` que usaste para el árbol de decisión para el caso del bosque aleatorio también, es decir, que ya no tienes que upsamplear nuevos conjuntos.</div>"
   ]
  },
  {
   "cell_type": "code",
   "execution_count": 41,
   "metadata": {},
   "outputs": [
    {
     "name": "stdout",
     "output_type": "stream",
     "text": [
      "Mejor F1_score con sobremuestreo (n_estimators = 35, max_depth = 9): 0.6308169596690797\n"
     ]
    }
   ],
   "source": [
    "best_F1_up = 0\n",
    "best_est_up = 0\n",
    "best_depth_up = 0\n",
    "for depth in range(1, 10):\n",
    "        for est in range(10, 50):\n",
    "            model = RandomForestClassifier(random_state=54321, n_estimators=est, max_depth=depth)\n",
    "            model.fit(features_upsampled_1, target_upsampled_1)\n",
    "            predicted_valid = model.predict(features_valid)\n",
    "            F1 = f1_score(target_valid, predicted_valid)\n",
    "            if F1 > best_F1_up:\n",
    "                best_F1_up = F1\n",
    "                best_est_up = est\n",
    "                best_depth_up = depth\n",
    "print(\"Mejor F1_score con sobremuestreo (n_estimators = {}, max_depth = {}): {}\".format(best_est_up, best_depth_up, best_F1_up))"
   ]
  },
  {
   "cell_type": "markdown",
   "metadata": {},
   "source": [
    "<div class=\"alert alert-block alert-danger\">\n",
    "\n",
    "<b>A resolver v2</b> <a class=\"tocSkip\"></a>\n",
    "\n",
    "~~Mismas correcciones que antes: no es necesario iterar en distintos valores de `repeat`. Sí hay que iterar en diferentes hiperparámetros para encontrar los hiperparámetros óptimos con los cuales obtienes el mejor F1.~~</div>"
   ]
  },
  {
   "cell_type": "markdown",
   "metadata": {},
   "source": [
    "<div class=\"alert alert-block alert-info\">\n",
    "<b>Respuesta del estudiante.</b> <a class=\"tocSkip\"></a>\n",
    "El bucle mostrado arriba realiza la iteración para encontrar los mejores hiperparámetros n_estimators y max_depth. El parámetro repeat se mantiene en 4 de acuerdo con la convención del balance 80%/20%.\n",
    "</div>"
   ]
  },
  {
   "cell_type": "markdown",
   "metadata": {},
   "source": [
    "##### Ajuste de peso de clase con submuestreo"
   ]
  },
  {
   "cell_type": "code",
   "execution_count": 42,
   "metadata": {},
   "outputs": [],
   "source": [
    "#features_downsampled_2, target_downsampled_2 = downsample(features_train, target_train, 0.25)"
   ]
  },
  {
   "cell_type": "markdown",
   "metadata": {},
   "source": [
    "<div class=\"alert alert-block alert-warning\">\n",
    "<b>Atención v4</b> <a class=\"tocSkip\"></a>\n",
    "\n",
    "Misma sugerencia que antes: puedes usar los mismos conjuntos `_downsampled` que usaste para el árbol de decisión."
   ]
  },
  {
   "cell_type": "code",
   "execution_count": 43,
   "metadata": {},
   "outputs": [
    {
     "name": "stdout",
     "output_type": "stream",
     "text": [
      "Mejor F1_score con submuestreo (n_estimators = 46, max_depth = 8): 0.6204238921001928\n"
     ]
    }
   ],
   "source": [
    "best_F1_down = 0\n",
    "best_est_down = 0\n",
    "best_depth_down = 0\n",
    "for depth in range(1, 10):\n",
    "        for est in range(10, 50):\n",
    "            model = RandomForestClassifier(random_state=54321, n_estimators=est, max_depth=depth)\n",
    "            model.fit(features_downsampled_1, target_downsampled_1)\n",
    "            predicted_valid = model.predict(features_valid)\n",
    "            F1 = f1_score(target_valid, predicted_valid)\n",
    "            if F1 > best_F1_down:\n",
    "                best_F1_down = F1\n",
    "                best_est_down = est\n",
    "                best_depth_down = depth\n",
    "print(\"Mejor F1_score con submuestreo (n_estimators = {}, max_depth = {}): {}\".format(best_est_down, best_depth_down, best_F1_down))"
   ]
  },
  {
   "cell_type": "markdown",
   "metadata": {},
   "source": [
    "<div class=\"alert alert-block alert-danger\">\n",
    "\n",
    "<b>A resolver v2</b> <a class=\"tocSkip\"></a>\n",
    "\n",
    "~~Mismas correcciones que antes: no es necesario iterar en distintos valores de `fraction`. Sí hay que iterar en diferentes hiperparámetros para encontrar los hiperparámetros óptimos con los que obtienes el mejor F1.~~</div>"
   ]
  },
  {
   "cell_type": "markdown",
   "metadata": {},
   "source": [
    "<div class=\"alert alert-block alert-info\">\n",
    "<b>Respuesta del estudiante.</b> <a class=\"tocSkip\"></a>\n",
    "El bucle mostrado arriba realiza la iteración para encontrar los mejores hiperparámetros n_estimators y max_depth. El parámetro fraction se mantiene en 0.25 de acuerdo con la convención del balance 20%/80%.\n",
    "</div>"
   ]
  },
  {
   "cell_type": "markdown",
   "metadata": {},
   "source": [
    "#### Modelo de regresión logística con codificación One-Hot"
   ]
  },
  {
   "cell_type": "markdown",
   "metadata": {},
   "source": [
    "Para utilizar el modelo de regresión logística voy a acoplar los datos para su uso, realizando el tratamiento de datos para evitar la trampa dummy. Además crearé nuevos conjuntos de entrenamiento, validación y prueba."
   ]
  },
  {
   "cell_type": "code",
   "execution_count": 44,
   "metadata": {},
   "outputs": [],
   "source": [
    "data_for_OHE = data.loc[:,'creditscore':'exited']"
   ]
  },
  {
   "cell_type": "markdown",
   "metadata": {},
   "source": [
    "<div class=\"alert alert-block alert-danger\">\n",
    "<b>A resolver</b> <a class=\"tocSkip\"></a>\n",
    "\n",
    "~~Por qué excluir columnas al usar OHE? No es correcto, **puedes usar exactamente las mismas columnas que con la otra codificación**. Sólo que **siempre**, previo a usar OHE, hay que revisar **cuántos valores únicos hay en cada columna categórica**, porque si hay muchos valores únicos en alguna columna categórica, al usar OHE se crearían muchísimas columnas nuevas y esto podría ser problemático.~~</div>"
   ]
  },
  {
   "cell_type": "code",
   "execution_count": 45,
   "metadata": {},
   "outputs": [
    {
     "data": {
      "text/plain": [
       "array(['France', 'Spain', 'Germany'], dtype=object)"
      ]
     },
     "execution_count": 45,
     "metadata": {},
     "output_type": "execute_result"
    }
   ],
   "source": [
    "data_for_OHE['geography'].unique()"
   ]
  },
  {
   "cell_type": "code",
   "execution_count": 46,
   "metadata": {
    "scrolled": false
   },
   "outputs": [],
   "source": [
    "data_ohe = pd.get_dummies(data_for_OHE, drop_first=True)\n",
    "target = data_ohe['exited']\n",
    "features = data_ohe.drop('exited', axis=1)"
   ]
  },
  {
   "cell_type": "markdown",
   "metadata": {},
   "source": [
    "La tabla de entradas y salidas para el modelo de regresión logística está lista como se muestra a continuación."
   ]
  },
  {
   "cell_type": "code",
   "execution_count": 47,
   "metadata": {},
   "outputs": [
    {
     "name": "stdout",
     "output_type": "stream",
     "text": [
      "<class 'pandas.core.frame.DataFrame'>\n",
      "RangeIndex: 10000 entries, 0 to 9999\n",
      "Data columns (total 12 columns):\n",
      " #   Column             Non-Null Count  Dtype  \n",
      "---  ------             --------------  -----  \n",
      " 0   creditscore        10000 non-null  int64  \n",
      " 1   age                10000 non-null  int64  \n",
      " 2   tenure             10000 non-null  float64\n",
      " 3   balance            10000 non-null  float64\n",
      " 4   numofproducts      10000 non-null  int64  \n",
      " 5   hascrcard          10000 non-null  int64  \n",
      " 6   isactivemember     10000 non-null  int64  \n",
      " 7   estimatedsalary    10000 non-null  float64\n",
      " 8   exited             10000 non-null  int64  \n",
      " 9   geography_Germany  10000 non-null  uint8  \n",
      " 10  geography_Spain    10000 non-null  uint8  \n",
      " 11  gender_Male        10000 non-null  uint8  \n",
      "dtypes: float64(3), int64(6), uint8(3)\n",
      "memory usage: 732.5 KB\n"
     ]
    }
   ],
   "source": [
    "data_ohe.info()"
   ]
  },
  {
   "cell_type": "code",
   "execution_count": 48,
   "metadata": {},
   "outputs": [
    {
     "data": {
      "text/html": [
       "<div>\n",
       "<style scoped>\n",
       "    .dataframe tbody tr th:only-of-type {\n",
       "        vertical-align: middle;\n",
       "    }\n",
       "\n",
       "    .dataframe tbody tr th {\n",
       "        vertical-align: top;\n",
       "    }\n",
       "\n",
       "    .dataframe thead th {\n",
       "        text-align: right;\n",
       "    }\n",
       "</style>\n",
       "<table border=\"1\" class=\"dataframe\">\n",
       "  <thead>\n",
       "    <tr style=\"text-align: right;\">\n",
       "      <th></th>\n",
       "      <th>creditscore</th>\n",
       "      <th>age</th>\n",
       "      <th>tenure</th>\n",
       "      <th>balance</th>\n",
       "      <th>numofproducts</th>\n",
       "      <th>hascrcard</th>\n",
       "      <th>isactivemember</th>\n",
       "      <th>estimatedsalary</th>\n",
       "      <th>exited</th>\n",
       "      <th>geography_Germany</th>\n",
       "      <th>geography_Spain</th>\n",
       "      <th>gender_Male</th>\n",
       "    </tr>\n",
       "  </thead>\n",
       "  <tbody>\n",
       "    <tr>\n",
       "      <th>0</th>\n",
       "      <td>619</td>\n",
       "      <td>42</td>\n",
       "      <td>2.0</td>\n",
       "      <td>0.00</td>\n",
       "      <td>1</td>\n",
       "      <td>1</td>\n",
       "      <td>1</td>\n",
       "      <td>101348.88</td>\n",
       "      <td>1</td>\n",
       "      <td>0</td>\n",
       "      <td>0</td>\n",
       "      <td>0</td>\n",
       "    </tr>\n",
       "    <tr>\n",
       "      <th>1</th>\n",
       "      <td>608</td>\n",
       "      <td>41</td>\n",
       "      <td>1.0</td>\n",
       "      <td>83807.86</td>\n",
       "      <td>1</td>\n",
       "      <td>0</td>\n",
       "      <td>1</td>\n",
       "      <td>112542.58</td>\n",
       "      <td>0</td>\n",
       "      <td>0</td>\n",
       "      <td>1</td>\n",
       "      <td>0</td>\n",
       "    </tr>\n",
       "    <tr>\n",
       "      <th>2</th>\n",
       "      <td>502</td>\n",
       "      <td>42</td>\n",
       "      <td>8.0</td>\n",
       "      <td>159660.80</td>\n",
       "      <td>3</td>\n",
       "      <td>1</td>\n",
       "      <td>0</td>\n",
       "      <td>113931.57</td>\n",
       "      <td>1</td>\n",
       "      <td>0</td>\n",
       "      <td>0</td>\n",
       "      <td>0</td>\n",
       "    </tr>\n",
       "    <tr>\n",
       "      <th>3</th>\n",
       "      <td>699</td>\n",
       "      <td>39</td>\n",
       "      <td>1.0</td>\n",
       "      <td>0.00</td>\n",
       "      <td>2</td>\n",
       "      <td>0</td>\n",
       "      <td>0</td>\n",
       "      <td>93826.63</td>\n",
       "      <td>0</td>\n",
       "      <td>0</td>\n",
       "      <td>0</td>\n",
       "      <td>0</td>\n",
       "    </tr>\n",
       "    <tr>\n",
       "      <th>4</th>\n",
       "      <td>850</td>\n",
       "      <td>43</td>\n",
       "      <td>2.0</td>\n",
       "      <td>125510.82</td>\n",
       "      <td>1</td>\n",
       "      <td>1</td>\n",
       "      <td>1</td>\n",
       "      <td>79084.10</td>\n",
       "      <td>0</td>\n",
       "      <td>0</td>\n",
       "      <td>1</td>\n",
       "      <td>0</td>\n",
       "    </tr>\n",
       "  </tbody>\n",
       "</table>\n",
       "</div>"
      ],
      "text/plain": [
       "   creditscore  age  tenure    balance  numofproducts  hascrcard  \\\n",
       "0          619   42     2.0       0.00              1          1   \n",
       "1          608   41     1.0   83807.86              1          0   \n",
       "2          502   42     8.0  159660.80              3          1   \n",
       "3          699   39     1.0       0.00              2          0   \n",
       "4          850   43     2.0  125510.82              1          1   \n",
       "\n",
       "   isactivemember  estimatedsalary  exited  geography_Germany  \\\n",
       "0               1        101348.88       1                  0   \n",
       "1               1        112542.58       0                  0   \n",
       "2               0        113931.57       1                  0   \n",
       "3               0         93826.63       0                  0   \n",
       "4               1         79084.10       0                  0   \n",
       "\n",
       "   geography_Spain  gender_Male  \n",
       "0                0            0  \n",
       "1                1            0  \n",
       "2                0            0  \n",
       "3                0            0  \n",
       "4                1            0  "
      ]
     },
     "execution_count": 48,
     "metadata": {},
     "output_type": "execute_result"
    }
   ],
   "source": [
    "data_ohe.head()"
   ]
  },
  {
   "cell_type": "markdown",
   "metadata": {},
   "source": [
    "##### Entrenamiento del modelo y cáculo de F1 sin ajuste"
   ]
  },
  {
   "cell_type": "code",
   "execution_count": 49,
   "metadata": {},
   "outputs": [],
   "source": [
    "target_1 = data_ohe['exited']\n",
    "features_1 = data_ohe.drop('exited', axis=1)"
   ]
  },
  {
   "cell_type": "code",
   "execution_count": 50,
   "metadata": {},
   "outputs": [],
   "source": [
    "features_train_1, features_valid_test_1, target_train_1, target_valid_test_1 = train_test_split(features_1, target_1, test_size=0.4, random_state=12345, stratify=target_1)\n",
    "features_valid_1, features_test_1, target_valid_1, target_test_1 = train_test_split(features_valid_test_1, target_valid_test_1, test_size=0.5, random_state=12345, stratify=target_valid_test_1)"
   ]
  },
  {
   "cell_type": "code",
   "execution_count": 51,
   "metadata": {},
   "outputs": [
    {
     "name": "stdout",
     "output_type": "stream",
     "text": [
      "F1_score sin ajuste de peso: 0.06263982102908278\n"
     ]
    }
   ],
   "source": [
    "model = LogisticRegression(random_state=12345, solver='liblinear')\n",
    "model.fit(features_train_1, target_train_1)\n",
    "\n",
    "predicted_valid_1 = model.predict(features_valid_1)\n",
    "print('F1_score sin ajuste de peso:', f1_score(target_valid_1, predicted_valid_1))"
   ]
  },
  {
   "cell_type": "markdown",
   "metadata": {},
   "source": [
    "<div class=\"alert alert-block alert-danger\">\n",
    "\n",
    "<b>A resolver v2</b> <a class=\"tocSkip\"></a>\n",
    "\n",
    "Mismas correcciones que antes sobre **crear también conjunto de prueba**. Aquí sí sería obligatorio usar la opción `stratify=` en `train_test_split()` ya que obtienes un desbalanceo brutal de **96 a 4** por no implementar esa opción."
   ]
  },
  {
   "cell_type": "markdown",
   "metadata": {},
   "source": [
    "<div class=\"alert alert-block alert-danger\">\n",
    "<b>A resolver v4</b> <a class=\"tocSkip\"></a>\n",
    "\n",
    "Olvidaste aplicar la corrección de arriba. **Debes crear obligatoriamente nuevos conjuntos de entrenamiento, validación y prueba para los datos OHE**, es decir, a partir de `data_ohe`. Porque recuerda que **la regresión logística tiene que usar datos OHE obligatoriamente**. Y no olvides nombrarlos de distinta forma a los conjuntos usados para el árbol de decisión y para el bosque.\n",
    "    \n",
    "    \n",
    "**Atento porque estos nuevos conjuntos los tendrás que usar en toda esta sección del modelo de regresión logística.**    "
   ]
  },
  {
   "cell_type": "markdown",
   "metadata": {},
   "source": [
    "<div class=\"alert alert-block alert-danger\">\n",
    "\n",
    "<b>A resolver</b> <a class=\"tocSkip\"></a>\n",
    "\n",
    "* ~~Debes de dividir en conjuntos de entrenamiento, validación y prueba, en proporción 3:1:1. El conjunto de validación es el que usarás en esta sección y el modelo de prueba lo usarás hasta el final, en la prueba final, probando sólo el mejor modelo que encontraste en la fase de validación.~~\n",
    "    \n",
    "* ~~Nombra los conjuntos de entrenamiento, validación y prueba de otra forma, para diferenciarlos de los conjuntos en los que usaste OrdinalEncoder()~~\n",
    "    \n",
    "* ~~Recuerda que la métrica de interés es el F1, no la exactitud.~~    \n",
    "</div>"
   ]
  },
  {
   "cell_type": "markdown",
   "metadata": {},
   "source": [
    "<div class=\"alert alert-block alert-info\">\n",
    "<b>Respuesta del estudiante.</b> <a class=\"tocSkip\"></a>\n",
    "He creado nuevos conjuntos de entrenamiento, validación y prueba para los datos OHE, a partir de data_ohe. Además los he nombrado con el índice 1 para evitar confusiones con aquellos de los modelos anteriores. Se ha utilizado el parámetro de stratify en los conjuntos.\n",
    "</div>"
   ]
  },
  {
   "cell_type": "markdown",
   "metadata": {},
   "source": [
    "##### Prueba de consistencia"
   ]
  },
  {
   "cell_type": "code",
   "execution_count": 52,
   "metadata": {
    "scrolled": false
   },
   "outputs": [
    {
     "name": "stdout",
     "output_type": "stream",
     "text": [
      "0    0.796333\n",
      "1    0.203667\n",
      "Name: exited, dtype: float64\n"
     ]
    },
    {
     "data": {
      "text/plain": [
       "<AxesSubplot:>"
      ]
     },
     "execution_count": 52,
     "metadata": {},
     "output_type": "execute_result"
    },
    {
     "data": {
      "image/png": "[encoded data removed]",
      "text/plain": [
       "<Figure size 216x144 with 1 Axes>"
      ]
     },
     "metadata": {
      "needs_background": "light"
     },
     "output_type": "display_data"
    }
   ],
   "source": [
    "#predicted_valid_series = pd.Series(model.predict(features_valid))\n",
    "class_frequency_1 = target_train_1.value_counts(normalize=True)\n",
    "print(class_frequency_1)\n",
    "class_frequency_1.plot(kind='bar',figsize=(3, 2))"
   ]
  },
  {
   "cell_type": "markdown",
   "metadata": {},
   "source": [
    "El 79.63% de los datos corresponde a predicciones negativas.\n",
    "El 20.37% restante corresponde a predicciones positivas.\n",
    "Se confirma que existe un desequilibrio entre las clases que requiere ser ajustado."
   ]
  },
  {
   "cell_type": "markdown",
   "metadata": {},
   "source": [
    "##### Ajuste de peso de clase con sobremuestreo"
   ]
  },
  {
   "cell_type": "code",
   "execution_count": 53,
   "metadata": {},
   "outputs": [],
   "source": [
    "features_upsampled_3, target_upsampled_3 = upsample(features_train_1, target_train_1, 4)"
   ]
  },
  {
   "cell_type": "markdown",
   "metadata": {},
   "source": [
    "<div class=\"alert alert-block alert-danger\">\n",
    "\n",
    "<b>A resolver v4</b> <a class=\"tocSkip\"></a>\n",
    "\n",
    "Atento porque tendrás que usar `repeat=4` tras las correcciones, si es que las aplicaste correctamente."
   ]
  },
  {
   "cell_type": "code",
   "execution_count": 54,
   "metadata": {},
   "outputs": [
    {
     "name": "stdout",
     "output_type": "stream",
     "text": [
      "F1_score con sobremuestreo: 0.47419354838709676\n"
     ]
    }
   ],
   "source": [
    "model.fit(features_upsampled_3, target_upsampled_3)\n",
    "predicted_valid_2 = model.predict(features_valid_1)\n",
    "print('F1_score con sobremuestreo:', f1_score(target_valid_1, predicted_valid_2))"
   ]
  },
  {
   "cell_type": "markdown",
   "metadata": {},
   "source": [
    "##### Ajuste de peso de clase con submuestreo"
   ]
  },
  {
   "cell_type": "code",
   "execution_count": 55,
   "metadata": {},
   "outputs": [],
   "source": [
    "features_downsampled_3, target_downsampled_3 = downsample(features_train_1, target_train_1, 0.25)"
   ]
  },
  {
   "cell_type": "markdown",
   "metadata": {},
   "source": [
    "<div class=\"alert alert-block alert-danger\">\n",
    "\n",
    "<b>A resolver v4</b> <a class=\"tocSkip\"></a>\n",
    "\n",
    "Atento porque tendrás que usar `fraction=0.25` tras las correcciones, si es que las aplicaste correctamente."
   ]
  },
  {
   "cell_type": "code",
   "execution_count": 56,
   "metadata": {},
   "outputs": [
    {
     "name": "stdout",
     "output_type": "stream",
     "text": [
      "F1_score con submuestreo: 0.47857720291026684\n"
     ]
    }
   ],
   "source": [
    "model.fit(features_downsampled_3, target_downsampled_3)\n",
    "predicted_valid_3 = model.predict(features_valid_1)\n",
    "print('F1_score con submuestreo:', f1_score(target_valid_1, predicted_valid_3))"
   ]
  },
  {
   "cell_type": "markdown",
   "metadata": {},
   "source": [
    "<div class=\"alert alert-block alert-danger\">\n",
    "\n",
    "<b>A resolver</b> <a class=\"tocSkip\"></a>\n",
    "\n",
    "~~Falta aplicar las dos técnicas de balanceo para el modelo de regresión logística.~~"
   ]
  },
  {
   "cell_type": "markdown",
   "metadata": {},
   "source": [
    "#### Verificación del mejor modelo con el conjunto de prueba"
   ]
  },
  {
   "cell_type": "markdown",
   "metadata": {},
   "source": [
    "<div class=\"alert alert-block alert-danger\">\n",
    "\n",
    "<b>A resolver v4</b> <a class=\"tocSkip\"></a>\n",
    "\n",
    "Atento ya que cambiará quizá tu mejor modelo con sus correspondientes hiperparámetros y su correspondiente método de balanceo  "
   ]
  },
  {
   "cell_type": "markdown",
   "metadata": {},
   "source": [
    "<div class=\"alert alert-block alert-danger\">\n",
    "\n",
    "<b>A resolver v2</b> <a class=\"tocSkip\"></a>\n",
    "\n",
    "* ~~Ya no es necesario dividir conjuntos, ya deberías de tener los conjuntos de prueba más que listos para ser usados.~~\n",
    "\n",
    "* ~~Atento ya que cambiará quizá tu mejor modelo con sus correspondientes hiperparámetros y su correspondiente método de balanceo~~    "
   ]
  },
  {
   "cell_type": "markdown",
   "metadata": {},
   "source": [
    "El modelo que mejor resultado ha mostrado ha sido el de bosque aleatorio con sobremuestreo. Del cual resultaron los hiperparámetros (n_estimators = 35, max_depth = 9) utilizando el conjunto features_upsampled_1, target_upsampled_1. A continuación se utilizará el conjunto de prueba features_test, target_test para realizar la predicción del modelo."
   ]
  },
  {
   "cell_type": "code",
   "execution_count": 57,
   "metadata": {},
   "outputs": [
    {
     "name": "stdout",
     "output_type": "stream",
     "text": [
      "F1_score del mejor modelo con el conjunto de prueba: 0.59830866807611\n"
     ]
    }
   ],
   "source": [
    "model = RandomForestClassifier(random_state=54321, n_estimators=35, max_depth=9)\n",
    "model.fit(features_upsampled_1, target_upsampled_1)\n",
    "predicted_test = model.predict(features_test)\n",
    "\n",
    "print('F1_score del mejor modelo con el conjunto de prueba:', f1_score(target_test, predicted_test))\n"
   ]
  },
  {
   "cell_type": "markdown",
   "metadata": {},
   "source": [
    "<div class=\"alert alert-block alert-danger\">\n",
    "\n",
    "<b>A resolver v4</b> <a class=\"tocSkip\"></a>\n",
    "\n",
    "**No llegaste al valor de F1 mínimo solicitado de 0.59**. Si tras aplicar todas las correcciones no llegas todavía, tendrás que:\n",
    "\n",
    "* En la fase de validación, en los bucles para los modelos de bosque aleatorio, deberás de iterar sobre un mayor rango de hiperparámetros, como te había sugerido en la 1a iteración. La profundidad máxima podrías iterarla en un rango de 1 a 10, y el no. de iteradores podrías iterarlo en un rango de 10 a 50 o de 10 a 100, **aumentando de 10 en 10**. \n",
    "</div>"
   ]
  },
  {
   "cell_type": "markdown",
   "metadata": {},
   "source": [
    "<div class=\"alert alert-block alert-danger\">\n",
    "\n",
    "<b>A resolver v2</b> <a class=\"tocSkip\"></a>\n",
    "\n",
    "* ~~Tus modelos **siempre se tienen que entrenar con el conjunto de entrenamiento** (ya sea el conjunto normal, o el conjunto subsampleado o sobresampleado correspondiente), siempre. Aquí entrenas con el conjunto de prueba y predices con el conjunto de prueba, eso no tiene sentido. La predicción sí se hace con el conjunto de prueba, el entrenamiento con el conjunto de entrenamiento.~~\n",
    "\n",
    "* ~~En esta sección sólo hay que probar **un modelo**: el mejor modelo, que obtuvo el mejor F1 previamente, con su correspondiente método de balanceo.~~ \n",
    "</div>"
   ]
  },
  {
   "cell_type": "markdown",
   "metadata": {},
   "source": [
    "<div class=\"alert alert-block alert-info\">\n",
    "<b>Respuesta del estudiante.</b> <a class=\"tocSkip\"></a>\n",
    "Para la corrida de prueba se utilizó el modelo con mejor F1 encontrado en las validaciones. Se ha utilizado el conjunto de entrenamiento con sobresampleado correspondiente features_upsampled_1, target_upsampled_1. La predicción se ha realizado con el conjunto de prueba: features_test, target_test.\n",
    "</div>"
   ]
  },
  {
   "cell_type": "markdown",
   "metadata": {},
   "source": [
    "<div class=\"alert alert-block alert-info\">\n",
    "<b>Respuesta del estudiante.</b> <a class=\"tocSkip\"></a>\n",
    "Para llegar al valor mínimo de F1 he iterado los bucles de muestreo con profundidad en un rango de 1 a 10, y número de estimadores en un rango de 1 a 50. Esto ha solucionado el problema, y ahora mi valor de F1 en el conjunto de prueba ya es al menos 0.59.\n",
    "</div>"
   ]
  },
  {
   "cell_type": "code",
   "execution_count": 58,
   "metadata": {},
   "outputs": [
    {
     "name": "stdout",
     "output_type": "stream",
     "text": [
      "Métrica AUC-ROC con el conjunto de prueba: 0.8495259512208666\n"
     ]
    }
   ],
   "source": [
    "probabilities_test = model.predict_proba(features_test)\n",
    "probabilities_one_test = probabilities_test[:, 1]\n",
    "auc_roc = roc_auc_score(target_test, probabilities_one_test)\n",
    "print('Métrica AUC-ROC con el conjunto de prueba:', auc_roc)"
   ]
  },
  {
   "cell_type": "code",
   "execution_count": 59,
   "metadata": {},
   "outputs": [
    {
     "data": {
      "image/png": "[encoded data removed]",
      "text/plain": [
       "<Figure size 432x288 with 1 Axes>"
      ]
     },
     "metadata": {
      "needs_background": "light"
     },
     "output_type": "display_data"
    }
   ],
   "source": [
    "fpr, tpr, thresholds = roc_curve(target_test, probabilities_one_test)\n",
    "\n",
    "plt.figure()\n",
    "plt.plot(fpr, tpr)\n",
    "plt.plot([0, 1], [0, 1], linestyle='--')\n",
    "plt.xlim([0.0, 1.0])\n",
    "plt.ylim([0.0, 1.0])\n",
    "plt.xlabel('Tasa de falsos positivos')\n",
    "plt.ylabel('Tasa de verdaderos positivos')\n",
    "plt.title('Curva ROC')\n",
    "plt.show()"
   ]
  },
  {
   "cell_type": "markdown",
   "metadata": {},
   "source": [
    "<div class=\"alert alert-block alert-danger\">\n",
    "\n",
    "<b>A resolver v2</b> <a class=\"tocSkip\"></a>\n",
    "\n",
    "~~En los argumentos de roc_curve() tienes que usar el mismo conjunto de target de prueba que usaste para calcular el roc auc score:~~\n",
    "\n",
    "~~`fpr, tpr, thresholds = roc_curve(target_test_1, probabilities_one_test)`~~\n",
    "</div>"
   ]
  },
  {
   "cell_type": "markdown",
   "metadata": {},
   "source": [
    "<div class=\"alert alert-block alert-danger\">\n",
    "\n",
    "<b>A resolver</b> <a class=\"tocSkip\"></a>\n",
    "\n",
    "~~Antes de terminar, debes de hacer una de las secciones más importantes, **la prueba final, en la que usarás los conjuntos de prueba** para calcular el F1 del modelo que obtuvo los mejores resultados de entre todos los modelos que validaste en las secciones anteriores. En esta sección, **se espera que tu F1 sea mayor a 0.59.** Para la prueba final, no olvides también calcular **el AUC-ROC, mostrando también la correspondiente curva ROC del modelo.**~~"
   ]
  },
  {
   "cell_type": "markdown",
   "metadata": {},
   "source": [
    "#### Conclusiones"
   ]
  },
  {
   "cell_type": "markdown",
   "metadata": {},
   "source": [
    "1. Se verificó la calidad de los datos del archivo base encontrando datos ausentes en la columna Tenure. \n",
    "2. Se reemplazaron los datos ausentes en la columna Tenure utilizando las medianas generales por edad y género.\n",
    "3. Se creó el conjunto de entrenamiento, validación y prueba para utilizar en los tres modelos y el modelo de prueba final.\n",
    "3. Se realizó la conversión de datos a variables ordinales para los modelos de árbol de decisión y bosque aleatorio.\n",
    "4. Se realizó el entrenamiento para los modelos de árbol de decisión y bosque aleatorio.\n",
    "5. Se hizo la corrida de validación para el modelo de árbol de decisión y bosque aleatorio.\n",
    "6. Se realizó el ajuste de los modelos y se calculó el mejor valor F1 en cada caso (ver resumen abajo).\n",
    "7. Se realizó la conversión de datos para evitar la trampa dummy para el modelo de regresión logística.\n",
    "8. Se realizó el entrenamiento para el modelo de regresión logística.\n",
    "9. Se hizo la corrida de validación para el modelo de regresión logística.\n",
    "10. Se realizó el ajuste del modelo y se calculó el mejor valor F1 (ver resumen abajo).\n",
    "11. Se corrió el conjunto de datos de prueba en el modelo ajustado con el mejor valor de F1.\n",
    "12. Se calculó el valor de ROC y se trazó la gráfica correspondiente para el modelo con el mejor valor de F1."
   ]
  },
  {
   "cell_type": "markdown",
   "metadata": {},
   "source": [
    "#### Resumen de los valores de F1 de los tres modelos con sus hiperparámetros y ajustes:\n",
    "\n",
    "I. Arbol de decisión:\n",
    "- F1_score sin ajuste de peso: 0.5070\n",
    "- F1_score con sobremuestreo (max_depth = 7): 0.5787\n",
    "- F1_score con submuestreo (max_depth = 6): 0.5874\n",
    "\n",
    "II. Bosque Aleatorio\n",
    "- F1_score sin ajuste de peso: 0.5972\n",
    "- F1_score con sobremuestreo (n_estimators = 35, max_depth = 9): 0.6308\n",
    "- F1_score con submuestreo (n_estimators = 46, max_depth = 8): 0.6204\n",
    "\n",
    "III. Regresión Logística:\n",
    "- F1_score sin ajuste de peso: 0.0626\n",
    "- F1_score con sobremuestreo: 0.4742\n",
    "- F1_score con submuestreo: 0.4786\n",
    "\n",
    "El modelo con mejor valor F1 mostrado fue el de bosque aleatorio con sobrebmuestreo (F1 = 0.6308) por lo que éste fue utilizado con el conjunto de datos de prueba:\n",
    "- F1_score del mejor modelo con el conjunto de prueba: 0.5983\n",
    "- Métrica AUC-ROC con el conjunto de prueba: 0.8495\n"
   ]
  },
  {
   "cell_type": "markdown",
   "metadata": {},
   "source": [
    "<div class=\"alert alert-block alert-danger\">\n",
    "\n",
    "<b>A resolver v4</b> <a class=\"tocSkip\"></a>\n",
    "\n",
    "Por favor actualiza esta última sección tras las correcciones.</div>"
   ]
  },
  {
   "cell_type": "markdown",
   "metadata": {},
   "source": [
    "<div class=\"alert alert-block alert-info\">\n",
    "<b>Respuesta del estudiante.</b> <a class=\"tocSkip\"></a>\n",
    "Listo con las actualizaciones en el resumen de valores F1 final, gracias.\n",
    "</div>"
   ]
  },
  {
   "cell_type": "markdown",
   "metadata": {},
   "source": [
    "<div class=\"alert alert-block alert-danger\">\n",
    "\n",
    "<b>A resolver</b> <a class=\"tocSkip\"></a>\n",
    "\n",
    "* ~~Actualiza tus conclusiones tras las correcciones.~~\n",
    "    \n",
    "* ~~Tus conclusiones deben de profundizar más en lo que hiciste en cada sección, **desde la sección de preprocesamiento de datos hasta la sección de la prueba final**.~~\n",
    "    \n",
    "* ~~Es incorrecto que no hayas alcanzado un F1 de 0.59, **es un valor perfectamente alcanzable para este proyecto**. Espero que con mis correcciones sí logres alcanzarlo. ~~   \n",
    "    "
   ]
  },
  {
   "cell_type": "markdown",
   "metadata": {},
   "source": [
    "<div class=\"alert alert-block alert-danger\">\n",
    "\n",
    "<b>A resolver v2</b> <a class=\"tocSkip\"></a>\n",
    "\n",
    "* ~~Por aplica mi corrección de arriba tal cual te la dije: que tus conclusiones también incluyan brevemente lo que observaste en tu dataframe desde el preprocesamiento de datos~~.\n",
    "\n",
    "* ~~Actualiza tus conclusiones finales tras aplicar mis correcciones.~~\n",
    "</div>"
   ]
  }
 ],
 "metadata": {
  "kernelspec": {
   "display_name": "Python 3 (ipykernel)",
   "language": "python",
   "name": "python3"
  },
  "language_info": {
   "codemirror_mode": {
    "name": "ipython",
    "version": 3
   },
   "file_extension": ".py",
   "mimetype": "text/x-python",
   "name": "python",
   "nbconvert_exporter": "python",
   "pygments_lexer": "ipython3",
   "version": "3.9.5"
  },
  "toc": {
   "base_numbering": 1,
   "nav_menu": {},
   "number_sections": true,
   "sideBar": true,
   "skip_h1_title": true,
   "title_cell": "Table of Contents",
   "title_sidebar": "Contents",
   "toc_cell": false,
   "toc_position": {},
   "toc_section_display": true,
   "toc_window_display": false
  }
 },
 "nbformat": 4,
 "nbformat_minor": 2
}
